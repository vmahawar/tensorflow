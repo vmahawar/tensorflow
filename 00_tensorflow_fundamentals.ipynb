{
  "nbformat": 4,
  "nbformat_minor": 0,
  "metadata": {
    "colab": {
      "provenance": [],
      "authorship_tag": "ABX9TyP6hSAaB2MjBdRRDqKlfsAI",
      "include_colab_link": true
    },
    "kernelspec": {
      "name": "python3",
      "display_name": "Python 3"
    },
    "language_info": {
      "name": "python"
    }
  },
  "cells": [
    {
      "cell_type": "markdown",
      "metadata": {
        "id": "view-in-github",
        "colab_type": "text"
      },
      "source": [
        "<a href=\"https://colab.research.google.com/github/vmahawar/tensorflow/blob/main/00_tensorflow_fundamentals.ipynb\" target=\"_parent\"><img src=\"https://colab.research.google.com/assets/colab-badge.svg\" alt=\"Open In Colab\"/></a>"
      ]
    },
    {
      "cell_type": "markdown",
      "source": [
        "# In this notebook, I am going to cover some of the most fundamental concepts of tensors using TensorFlow\n",
        "\n",
        "More specifically, going to cover:\n",
        "* Introduction to tensors\n",
        "* Getting information from tensors\n",
        "* Manipulating tensors\n",
        "* Tensors & Numpy\n",
        "* Using @tf.function (a way to speed up your regular python functions)\n",
        "* Using GPUs with TensorFlow (or TPUs)\n",
        "* Exercises to try for yourself!"
      ],
      "metadata": {
        "id": "3mNVQTwSaDAY"
      }
    },
    {
      "cell_type": "markdown",
      "source": [
        "# Introduction to [Tensors](https://www.tensorflow.org/)"
      ],
      "metadata": {
        "id": "zj4jsE8faJQU"
      }
    },
    {
      "cell_type": "code",
      "source": [
        "# Create timestamp\n",
        "import datetime\n",
        "\n",
        "print(f\"Notebook last run (end-to-end): {datetime.datetime.now()}\")"
      ],
      "metadata": {
        "colab": {
          "base_uri": "https://localhost:8080/"
        },
        "id": "4dWrwm4kbRIv",
        "outputId": "815cb35c-eddf-4da9-999e-c4d417df12c4"
      },
      "execution_count": null,
      "outputs": [
        {
          "output_type": "stream",
          "name": "stdout",
          "text": [
            "Notebook last run (end-to-end): 2024-08-21 20:36:31.109411\n"
          ]
        }
      ]
    },
    {
      "cell_type": "code",
      "source": [
        "# Import TensorFlow\n",
        "import tensorflow as tf\n",
        "print(tf.__version__)"
      ],
      "metadata": {
        "colab": {
          "base_uri": "https://localhost:8080/"
        },
        "id": "_D258GOXaL6Z",
        "outputId": "c6bb1485-f09b-4550-b67f-813ba620b47b"
      },
      "execution_count": null,
      "outputs": [
        {
          "output_type": "stream",
          "name": "stdout",
          "text": [
            "2.17.0\n"
          ]
        }
      ]
    },
    {
      "cell_type": "code",
      "source": [
        "# Creating tensors with tf.constant()\n",
        "scalar = tf.constant(7)\n",
        "scalar"
      ],
      "metadata": {
        "colab": {
          "base_uri": "https://localhost:8080/"
        },
        "id": "B5EGPiayaSz8",
        "outputId": "897ce8aa-05fa-4fdd-eb42-b734aa47f4e8"
      },
      "execution_count": null,
      "outputs": [
        {
          "output_type": "execute_result",
          "data": {
            "text/plain": [
              "<tf.Tensor: shape=(), dtype=int32, numpy=7>"
            ]
          },
          "metadata": {},
          "execution_count": 62
        }
      ]
    },
    {
      "cell_type": "code",
      "source": [
        "# Check the number of dimensions of a tensor (ndim stands for number of dimensions)\n",
        "scalar.ndim"
      ],
      "metadata": {
        "colab": {
          "base_uri": "https://localhost:8080/"
        },
        "id": "6pv4skURa13s",
        "outputId": "cfa5169f-92b0-4eea-eab8-6dbe45360e71"
      },
      "execution_count": null,
      "outputs": [
        {
          "output_type": "execute_result",
          "data": {
            "text/plain": [
              "0"
            ]
          },
          "metadata": {},
          "execution_count": 63
        }
      ]
    },
    {
      "cell_type": "code",
      "source": [
        "# Create a vector\n",
        "vector = tf.constant([10, 10])\n",
        "vector"
      ],
      "metadata": {
        "colab": {
          "base_uri": "https://localhost:8080/"
        },
        "id": "oRSuEIQQbDzJ",
        "outputId": "1bc3c2c3-6c0a-468a-b8f0-b028c2f7207d"
      },
      "execution_count": null,
      "outputs": [
        {
          "output_type": "execute_result",
          "data": {
            "text/plain": [
              "<tf.Tensor: shape=(2,), dtype=int32, numpy=array([10, 10], dtype=int32)>"
            ]
          },
          "metadata": {},
          "execution_count": 64
        }
      ]
    },
    {
      "cell_type": "code",
      "source": [
        "# Check the dimension of our vector\n",
        "vector.ndim"
      ],
      "metadata": {
        "colab": {
          "base_uri": "https://localhost:8080/"
        },
        "id": "lNpnX0hDbJ_k",
        "outputId": "332629a7-32d2-46c0-bee2-00f2de827ab3"
      },
      "execution_count": null,
      "outputs": [
        {
          "output_type": "execute_result",
          "data": {
            "text/plain": [
              "1"
            ]
          },
          "metadata": {},
          "execution_count": 65
        }
      ]
    },
    {
      "cell_type": "code",
      "source": [
        "# Create a matrix (has more than 1 dimension)\n",
        "matrix = tf.constant([[10,7],\n",
        "                     [7,10]])\n",
        "\n",
        "matrix"
      ],
      "metadata": {
        "colab": {
          "base_uri": "https://localhost:8080/"
        },
        "id": "4kQGXK0vbSx4",
        "outputId": "2f75383b-8e96-41c3-854f-1107e2b4b36a"
      },
      "execution_count": null,
      "outputs": [
        {
          "output_type": "execute_result",
          "data": {
            "text/plain": [
              "<tf.Tensor: shape=(2, 2), dtype=int32, numpy=\n",
              "array([[10,  7],\n",
              "       [ 7, 10]], dtype=int32)>"
            ]
          },
          "metadata": {},
          "execution_count": 66
        }
      ]
    },
    {
      "cell_type": "code",
      "source": [
        "matrix.ndim"
      ],
      "metadata": {
        "colab": {
          "base_uri": "https://localhost:8080/"
        },
        "id": "K-i3T5PNbjaC",
        "outputId": "c30e56af-a55d-4bb0-ea30-815a14427b24"
      },
      "execution_count": null,
      "outputs": [
        {
          "output_type": "execute_result",
          "data": {
            "text/plain": [
              "2"
            ]
          },
          "metadata": {},
          "execution_count": 67
        }
      ]
    },
    {
      "cell_type": "code",
      "source": [
        "# Create another matrix\n",
        "\n",
        "another_matrix = tf.constant([[10.,7.],\n",
        "                              [3.,2.],\n",
        "                              [8.,9.]],dtype = tf.float16) # specify the data type with dtype parameter\n",
        "\n",
        "another_matrix"
      ],
      "metadata": {
        "colab": {
          "base_uri": "https://localhost:8080/"
        },
        "id": "F20Ft7w-blih",
        "outputId": "0da3a146-499c-4ed3-e42b-43d99cdef33e"
      },
      "execution_count": null,
      "outputs": [
        {
          "output_type": "execute_result",
          "data": {
            "text/plain": [
              "<tf.Tensor: shape=(3, 2), dtype=float16, numpy=\n",
              "array([[10.,  7.],\n",
              "       [ 3.,  2.],\n",
              "       [ 8.,  9.]], dtype=float16)>"
            ]
          },
          "metadata": {},
          "execution_count": 68
        }
      ]
    },
    {
      "cell_type": "code",
      "source": [
        "another_matrix.ndim"
      ],
      "metadata": {
        "colab": {
          "base_uri": "https://localhost:8080/"
        },
        "id": "GX4_r0kscTOu",
        "outputId": "f14dc63b-a20c-4759-85a6-21bed269daf4"
      },
      "execution_count": null,
      "outputs": [
        {
          "output_type": "execute_result",
          "data": {
            "text/plain": [
              "2"
            ]
          },
          "metadata": {},
          "execution_count": 69
        }
      ]
    },
    {
      "cell_type": "code",
      "source": [
        "# How about a tensor? (more than 2 dimensions, although, all of the above items are also technically tensors)\n",
        "tensor = tf.constant([[[1,2,3],\n",
        "                        [4,5,6]],\n",
        "                       [[7,8,9],\n",
        "                        [10,11,12]],\n",
        "                       [[13,14,15],\n",
        "                        [16,17,18]]])\n",
        "tensor"
      ],
      "metadata": {
        "colab": {
          "base_uri": "https://localhost:8080/"
        },
        "id": "z6rOr04ScXqt",
        "outputId": "b41f78a3-a5a9-4018-f8e4-f6a162f02c3c"
      },
      "execution_count": null,
      "outputs": [
        {
          "output_type": "execute_result",
          "data": {
            "text/plain": [
              "<tf.Tensor: shape=(3, 2, 3), dtype=int32, numpy=\n",
              "array([[[ 1,  2,  3],\n",
              "        [ 4,  5,  6]],\n",
              "\n",
              "       [[ 7,  8,  9],\n",
              "        [10, 11, 12]],\n",
              "\n",
              "       [[13, 14, 15],\n",
              "        [16, 17, 18]]], dtype=int32)>"
            ]
          },
          "metadata": {},
          "execution_count": 70
        }
      ]
    },
    {
      "cell_type": "code",
      "source": [
        "tensor.ndim"
      ],
      "metadata": {
        "colab": {
          "base_uri": "https://localhost:8080/"
        },
        "id": "m_LCIJ-Ucydh",
        "outputId": "85dda739-677e-4133-9330-2c0f77f80930"
      },
      "execution_count": null,
      "outputs": [
        {
          "output_type": "execute_result",
          "data": {
            "text/plain": [
              "3"
            ]
          },
          "metadata": {},
          "execution_count": 71
        }
      ]
    },
    {
      "cell_type": "markdown",
      "source": [
        "## What is created so far:\n",
        "\n",
        " * Scalar: a single number\n",
        " * Vector: a number with direction (e.g. wind speed and direction)\n",
        " * Matrix: a 2-dimensional array of numbers\n",
        " * Tensor: an n-dimensional array of numbers (where n can be any number, a 0-dimensional tensor is a scalar, a 1-dimensional tensor is a vector)"
      ],
      "metadata": {
        "id": "bF6kXYatderZ"
      }
    },
    {
      "cell_type": "code",
      "source": [
        "# Create the same tensor with tf.variable and tf.constant()\n",
        "changeable_tensor = tf.Variable([10,7])\n",
        "unchangeable_tensor = tf.constant([10,7])\n",
        "changeable_tensor, unchangeable_tensor"
      ],
      "metadata": {
        "colab": {
          "base_uri": "https://localhost:8080/"
        },
        "id": "FmJhqUkIdHun",
        "outputId": "5c079ca5-7400-4e68-aeb0-52459aee698d"
      },
      "execution_count": null,
      "outputs": [
        {
          "output_type": "execute_result",
          "data": {
            "text/plain": [
              "(<tf.Variable 'Variable:0' shape=(2,) dtype=int32, numpy=array([10,  7], dtype=int32)>,\n",
              " <tf.Tensor: shape=(2,), dtype=int32, numpy=array([10,  7], dtype=int32)>)"
            ]
          },
          "metadata": {},
          "execution_count": 72
        }
      ]
    },
    {
      "cell_type": "code",
      "source": [
        "# Lets try change one of the lements in our changeable tensors\n",
        "changeable_tensor[0] = 7\n",
        "changeable_tensor"
      ],
      "metadata": {
        "colab": {
          "base_uri": "https://localhost:8080/",
          "height": 176
        },
        "id": "Ougcrb4XfMRY",
        "outputId": "863b6bde-593b-4701-ed6d-d85ad7f1c513"
      },
      "execution_count": null,
      "outputs": [
        {
          "output_type": "error",
          "ename": "TypeError",
          "evalue": "'ResourceVariable' object does not support item assignment",
          "traceback": [
            "\u001b[0;31m---------------------------------------------------------------------------\u001b[0m",
            "\u001b[0;31mTypeError\u001b[0m                                 Traceback (most recent call last)",
            "\u001b[0;32m<ipython-input-73-61188af4d9f9>\u001b[0m in \u001b[0;36m<cell line: 2>\u001b[0;34m()\u001b[0m\n\u001b[1;32m      1\u001b[0m \u001b[0;31m# Lets try change one of the lements in our changeable tensors\u001b[0m\u001b[0;34m\u001b[0m\u001b[0;34m\u001b[0m\u001b[0m\n\u001b[0;32m----> 2\u001b[0;31m \u001b[0mchangeable_tensor\u001b[0m\u001b[0;34m[\u001b[0m\u001b[0;36m0\u001b[0m\u001b[0;34m]\u001b[0m \u001b[0;34m=\u001b[0m \u001b[0;36m7\u001b[0m\u001b[0;34m\u001b[0m\u001b[0;34m\u001b[0m\u001b[0m\n\u001b[0m\u001b[1;32m      3\u001b[0m \u001b[0mchangeable_tensor\u001b[0m\u001b[0;34m\u001b[0m\u001b[0;34m\u001b[0m\u001b[0m\n",
            "\u001b[0;31mTypeError\u001b[0m: 'ResourceVariable' object does not support item assignment"
          ]
        }
      ]
    },
    {
      "cell_type": "code",
      "source": [
        "# Lets try change one of the lements in our changeable tensors\n",
        "changeable_tensor[0].assign(7)\n",
        "changeable_tensor"
      ],
      "metadata": {
        "id": "Mt_7wEoNeFBi"
      },
      "execution_count": null,
      "outputs": []
    },
    {
      "cell_type": "code",
      "source": [
        "# Let's try change our unchangeable tensor\n",
        "unchangeable_tensor[0].assign(7)\n",
        "unchangeable_tensor"
      ],
      "metadata": {
        "id": "VIUOO3IUevNu"
      },
      "execution_count": null,
      "outputs": []
    },
    {
      "cell_type": "markdown",
      "source": [
        "🔑**Note:** Rarely in practice will we need to decide whether to use `tf.constant` or `tf.variable` to create tensors, as tensorflow does it for us. However, if in doubt, use tf.constant and change it later if needed"
      ],
      "metadata": {
        "id": "--EgmXRwfWJ-"
      }
    },
    {
      "cell_type": "code",
      "source": [
        "# Creating two random (but the same) tensors\n",
        "\n",
        "random_1 = tf.random.Generator.from_seed(42) # set seed for reproducibility\n",
        "random_1 = random_1.normal(shape=(3,2))\n",
        "random_1\n"
      ],
      "metadata": {
        "colab": {
          "base_uri": "https://localhost:8080/"
        },
        "id": "ZtPxwin6fQbB",
        "outputId": "d3b90728-8ba6-400b-c6a2-fd33d120de4b"
      },
      "execution_count": null,
      "outputs": [
        {
          "output_type": "execute_result",
          "data": {
            "text/plain": [
              "<tf.Tensor: shape=(3, 2), dtype=float32, numpy=\n",
              "array([[-0.7565803 , -0.06854702],\n",
              "       [ 0.07595026, -1.2573844 ],\n",
              "       [-0.23193763, -1.8107855 ]], dtype=float32)>"
            ]
          },
          "metadata": {},
          "execution_count": 74
        }
      ]
    },
    {
      "cell_type": "code",
      "source": [
        "random_2 = tf.random.Generator.from_seed(42)\n",
        "random_2 = random_2.normal(shape=(3,2))\n",
        "random_2"
      ],
      "metadata": {
        "colab": {
          "base_uri": "https://localhost:8080/"
        },
        "id": "nxrkaqBegzlB",
        "outputId": "1709fdd0-3bdb-46ad-8227-e35d1932ff26"
      },
      "execution_count": null,
      "outputs": [
        {
          "output_type": "execute_result",
          "data": {
            "text/plain": [
              "<tf.Tensor: shape=(3, 2), dtype=float32, numpy=\n",
              "array([[-0.7565803 , -0.06854702],\n",
              "       [ 0.07595026, -1.2573844 ],\n",
              "       [-0.23193763, -1.8107855 ]], dtype=float32)>"
            ]
          },
          "metadata": {},
          "execution_count": 75
        }
      ]
    },
    {
      "cell_type": "code",
      "source": [
        "# Are they equal?\n",
        "random_1, random_2, random_1 == random_2"
      ],
      "metadata": {
        "colab": {
          "base_uri": "https://localhost:8080/"
        },
        "id": "vrqjnLlWg44K",
        "outputId": "fc10ed54-b640-426a-f70b-89f938ba42f0"
      },
      "execution_count": null,
      "outputs": [
        {
          "output_type": "execute_result",
          "data": {
            "text/plain": [
              "(<tf.Tensor: shape=(3, 2), dtype=float32, numpy=\n",
              " array([[-0.7565803 , -0.06854702],\n",
              "        [ 0.07595026, -1.2573844 ],\n",
              "        [-0.23193763, -1.8107855 ]], dtype=float32)>,\n",
              " <tf.Tensor: shape=(3, 2), dtype=float32, numpy=\n",
              " array([[-0.7565803 , -0.06854702],\n",
              "        [ 0.07595026, -1.2573844 ],\n",
              "        [-0.23193763, -1.8107855 ]], dtype=float32)>,\n",
              " <tf.Tensor: shape=(3, 2), dtype=bool, numpy=\n",
              " array([[ True,  True],\n",
              "        [ True,  True],\n",
              "        [ True,  True]])>)"
            ]
          },
          "metadata": {},
          "execution_count": 76
        }
      ]
    },
    {
      "cell_type": "code",
      "source": [
        "# Create two random (and different) tensors\n",
        "random_3 = tf.random.Generator.from_seed(42)\n",
        "random_3 = random_3.normal(shape=(3, 2))\n",
        "random_4 = tf.random.Generator.from_seed(11)\n",
        "random_4 = random_4.normal(shape=(3, 2))\n",
        "\n",
        "# Check the tensors and see if they are equal\n",
        "random_3, random_4, random_1 == random_3, random_3 == random_4"
      ],
      "metadata": {
        "colab": {
          "base_uri": "https://localhost:8080/"
        },
        "id": "ecYtY1nshO1C",
        "outputId": "82b938f9-1663-4b05-a4ea-ac045ceed50d"
      },
      "execution_count": null,
      "outputs": [
        {
          "output_type": "execute_result",
          "data": {
            "text/plain": [
              "(<tf.Tensor: shape=(3, 2), dtype=float32, numpy=\n",
              " array([[-0.7565803 , -0.06854702],\n",
              "        [ 0.07595026, -1.2573844 ],\n",
              "        [-0.23193763, -1.8107855 ]], dtype=float32)>,\n",
              " <tf.Tensor: shape=(3, 2), dtype=float32, numpy=\n",
              " array([[ 0.27305737, -0.29925638],\n",
              "        [-0.3652325 ,  0.61883307],\n",
              "        [-1.0130816 ,  0.28291714]], dtype=float32)>,\n",
              " <tf.Tensor: shape=(3, 2), dtype=bool, numpy=\n",
              " array([[ True,  True],\n",
              "        [ True,  True],\n",
              "        [ True,  True]])>,\n",
              " <tf.Tensor: shape=(3, 2), dtype=bool, numpy=\n",
              " array([[False, False],\n",
              "        [False, False],\n",
              "        [False, False]])>)"
            ]
          },
          "metadata": {},
          "execution_count": 77
        }
      ]
    },
    {
      "cell_type": "code",
      "source": [
        "# Shuffle a tensor (valuable for when you want to shuffle your data)\n",
        "not_shuffled = tf.constant([[10,7],\n",
        "                            [3,4],\n",
        "                            [2,5]])\n",
        "not_shuffled.ndim"
      ],
      "metadata": {
        "colab": {
          "base_uri": "https://localhost:8080/"
        },
        "id": "D77Uvt1phpr2",
        "outputId": "e47ccf0c-f18c-4575-ee30-9a5d39e98d55"
      },
      "execution_count": null,
      "outputs": [
        {
          "output_type": "execute_result",
          "data": {
            "text/plain": [
              "2"
            ]
          },
          "metadata": {},
          "execution_count": 78
        }
      ]
    },
    {
      "cell_type": "code",
      "source": [
        "# Shuffle in the same order every time using the seed parameter (won't acutally be the same)\n",
        "tf.random.shuffle(not_shuffled, seed=42)"
      ],
      "metadata": {
        "colab": {
          "base_uri": "https://localhost:8080/"
        },
        "id": "HbEhkxMKh2ZG",
        "outputId": "2bad8225-a6f2-48ef-d1ea-e80d98f14a4c"
      },
      "execution_count": null,
      "outputs": [
        {
          "output_type": "execute_result",
          "data": {
            "text/plain": [
              "<tf.Tensor: shape=(3, 2), dtype=int32, numpy=\n",
              "array([[ 2,  5],\n",
              "       [10,  7],\n",
              "       [ 3,  4]], dtype=int32)>"
            ]
          },
          "metadata": {},
          "execution_count": 79
        }
      ]
    },
    {
      "cell_type": "code",
      "source": [
        "# Shuffle in the same order every time\n",
        "\n",
        "# Set the global random seed\n",
        "tf.random.set_seed(42)\n",
        "\n",
        "# Set the operation random seed\n",
        "tf.random.shuffle(value=not_shuffled,seed = 42)"
      ],
      "metadata": {
        "colab": {
          "base_uri": "https://localhost:8080/"
        },
        "id": "KSDH3sjGiRcp",
        "outputId": "8f32eac0-8d4d-4dbc-e359-61fb026db196"
      },
      "execution_count": null,
      "outputs": [
        {
          "output_type": "execute_result",
          "data": {
            "text/plain": [
              "<tf.Tensor: shape=(3, 2), dtype=int32, numpy=\n",
              "array([[10,  7],\n",
              "       [ 3,  4],\n",
              "       [ 2,  5]], dtype=int32)>"
            ]
          },
          "metadata": {},
          "execution_count": 80
        }
      ]
    },
    {
      "cell_type": "code",
      "source": [
        "# Set the global random seed\n",
        "tf.random.set_seed(42) # if you comment this out you'll get different results\n",
        "\n",
        "# Set the operation random seed\n",
        "tf.random.shuffle(not_shuffled)"
      ],
      "metadata": {
        "colab": {
          "base_uri": "https://localhost:8080/"
        },
        "id": "_6afyZcfjVZA",
        "outputId": "faea4b7a-e299-4bfb-9111-5937e19e6d64"
      },
      "execution_count": null,
      "outputs": [
        {
          "output_type": "execute_result",
          "data": {
            "text/plain": [
              "<tf.Tensor: shape=(3, 2), dtype=int32, numpy=\n",
              "array([[ 3,  4],\n",
              "       [ 2,  5],\n",
              "       [10,  7]], dtype=int32)>"
            ]
          },
          "metadata": {},
          "execution_count": 81
        }
      ]
    },
    {
      "cell_type": "markdown",
      "source": [
        "🛠 **Exercise**: Read through TensorFlow documentation on random seed generation: https://www.tensorflow.org/api_docs/python/tf/random/set_seed and practise writing 5 random tensors\n",
        "\n",
        "it looks like if we want our shuffled tensors to be in the same order, we'have got to use the global level random seed."
      ],
      "metadata": {
        "id": "GX8rYjcPkaRs"
      }
    },
    {
      "cell_type": "code",
      "source": [
        "print(tf.random.uniform([1]))  # generates 'A1'\n",
        "print(tf.random.uniform([1]))  # generates 'A2'"
      ],
      "metadata": {
        "colab": {
          "base_uri": "https://localhost:8080/"
        },
        "id": "FTFDkpGwkxtF",
        "outputId": "65000358-dbbb-48f6-d004-8588dce466c7"
      },
      "execution_count": null,
      "outputs": [
        {
          "output_type": "stream",
          "name": "stdout",
          "text": [
            "tf.Tensor([0.68789124], shape=(1,), dtype=float32)\n",
            "tf.Tensor([0.7413678], shape=(1,), dtype=float32)\n"
          ]
        }
      ]
    },
    {
      "cell_type": "code",
      "source": [
        "print(tf.random.uniform([1]))  # generates 'A3'\n",
        "print(tf.random.uniform([1]))  # generates 'A4'"
      ],
      "metadata": {
        "colab": {
          "base_uri": "https://localhost:8080/"
        },
        "id": "tq8gtyEHk1vK",
        "outputId": "eeef408e-500e-4826-d2cf-4e301eb54029"
      },
      "execution_count": null,
      "outputs": [
        {
          "output_type": "stream",
          "name": "stdout",
          "text": [
            "tf.Tensor([0.7402308], shape=(1,), dtype=float32)\n",
            "tf.Tensor([0.803156], shape=(1,), dtype=float32)\n"
          ]
        }
      ]
    },
    {
      "cell_type": "code",
      "source": [
        "tf.random.set_seed(1234)\n",
        "print(tf.random.uniform([1]))  # generates 'A1'\n",
        "print(tf.random.uniform([1]))  # generates 'A2'"
      ],
      "metadata": {
        "colab": {
          "base_uri": "https://localhost:8080/"
        },
        "id": "MVc7ujnDk7G3",
        "outputId": "98881f07-f267-4b14-85a1-87636ece2f2c"
      },
      "execution_count": null,
      "outputs": [
        {
          "output_type": "stream",
          "name": "stdout",
          "text": [
            "tf.Tensor([0.5380393], shape=(1,), dtype=float32)\n",
            "tf.Tensor([0.3253647], shape=(1,), dtype=float32)\n"
          ]
        }
      ]
    },
    {
      "cell_type": "code",
      "source": [
        "tf.random.set_seed(1234)\n",
        "print(tf.random.uniform([1]))  # generates 'A1'\n",
        "print(tf.random.uniform([1]))  # generates 'A2'"
      ],
      "metadata": {
        "colab": {
          "base_uri": "https://localhost:8080/"
        },
        "id": "Qy7EFR2fk9l2",
        "outputId": "54f35068-6fbd-485c-b04c-e1798e65d84e"
      },
      "execution_count": null,
      "outputs": [
        {
          "output_type": "stream",
          "name": "stdout",
          "text": [
            "tf.Tensor([0.5380393], shape=(1,), dtype=float32)\n",
            "tf.Tensor([0.3253647], shape=(1,), dtype=float32)\n"
          ]
        }
      ]
    },
    {
      "cell_type": "code",
      "source": [
        "tf.random.set_seed(1234)\n",
        "\n",
        "@tf.function\n",
        "def f():\n",
        "  a = tf.random.uniform([1])\n",
        "  b = tf.random.uniform([1])\n",
        "  return a, b\n",
        "\n",
        "@tf.function\n",
        "def g():\n",
        "  a = tf.random.uniform([1])\n",
        "  b = tf.random.uniform([1])\n",
        "  return a, b\n",
        "\n",
        "print(f())  # prints '(A1, A2)'\n",
        "print(g())  # prints '(A1, A2)'"
      ],
      "metadata": {
        "colab": {
          "base_uri": "https://localhost:8080/"
        },
        "id": "7nYvxBYIlGFR",
        "outputId": "d5dcfe1f-3501-4828-8793-f3186254054b"
      },
      "execution_count": null,
      "outputs": [
        {
          "output_type": "stream",
          "name": "stdout",
          "text": [
            "(<tf.Tensor: shape=(1,), dtype=float32, numpy=array([0.13047123], dtype=float32)>, <tf.Tensor: shape=(1,), dtype=float32, numpy=array([0.1689806], dtype=float32)>)\n",
            "(<tf.Tensor: shape=(1,), dtype=float32, numpy=array([0.13047123], dtype=float32)>, <tf.Tensor: shape=(1,), dtype=float32, numpy=array([0.1689806], dtype=float32)>)\n"
          ]
        }
      ]
    },
    {
      "cell_type": "code",
      "source": [
        "print(tf.random.uniform([1], seed=1))  # generates 'A1'\n",
        "print(tf.random.uniform([1], seed=1))  # generates 'A2'"
      ],
      "metadata": {
        "colab": {
          "base_uri": "https://localhost:8080/"
        },
        "id": "H6BBSzn-lem3",
        "outputId": "28b12bee-f43c-4227-f1cb-cd5fbd37635e"
      },
      "execution_count": null,
      "outputs": [
        {
          "output_type": "stream",
          "name": "stdout",
          "text": [
            "tf.Tensor([0.1689806], shape=(1,), dtype=float32)\n",
            "tf.Tensor([0.7539084], shape=(1,), dtype=float32)\n"
          ]
        }
      ]
    },
    {
      "cell_type": "markdown",
      "source": [
        "# Other ways to make tensors"
      ],
      "metadata": {
        "id": "jagqLE5Fn1mI"
      }
    },
    {
      "cell_type": "code",
      "source": [
        "# Create a tensors of all ones\n",
        "tf.ones([10,7])"
      ],
      "metadata": {
        "colab": {
          "base_uri": "https://localhost:8080/"
        },
        "id": "4y5sHFhInror",
        "outputId": "16aa4cce-e8ae-4e7f-94ca-008dcecc3ae7"
      },
      "execution_count": null,
      "outputs": [
        {
          "output_type": "execute_result",
          "data": {
            "text/plain": [
              "<tf.Tensor: shape=(10, 7), dtype=float32, numpy=\n",
              "array([[1., 1., 1., 1., 1., 1., 1.],\n",
              "       [1., 1., 1., 1., 1., 1., 1.],\n",
              "       [1., 1., 1., 1., 1., 1., 1.],\n",
              "       [1., 1., 1., 1., 1., 1., 1.],\n",
              "       [1., 1., 1., 1., 1., 1., 1.],\n",
              "       [1., 1., 1., 1., 1., 1., 1.],\n",
              "       [1., 1., 1., 1., 1., 1., 1.],\n",
              "       [1., 1., 1., 1., 1., 1., 1.],\n",
              "       [1., 1., 1., 1., 1., 1., 1.],\n",
              "       [1., 1., 1., 1., 1., 1., 1.]], dtype=float32)>"
            ]
          },
          "metadata": {},
          "execution_count": 88
        }
      ]
    },
    {
      "cell_type": "code",
      "source": [
        "tf.zeros(shape=(3,4))"
      ],
      "metadata": {
        "colab": {
          "base_uri": "https://localhost:8080/"
        },
        "id": "u7mV_E4an9iJ",
        "outputId": "df1d060f-2051-4b77-8fa3-6b6a6fad786b"
      },
      "execution_count": null,
      "outputs": [
        {
          "output_type": "execute_result",
          "data": {
            "text/plain": [
              "<tf.Tensor: shape=(3, 4), dtype=float32, numpy=\n",
              "array([[0., 0., 0., 0.],\n",
              "       [0., 0., 0., 0.],\n",
              "       [0., 0., 0., 0.]], dtype=float32)>"
            ]
          },
          "metadata": {},
          "execution_count": 89
        }
      ]
    },
    {
      "cell_type": "markdown",
      "source": [
        "### Turn Numpy arrays into tensors\n",
        "\n",
        "The main difference between Numpy arrays and TensorFlow tensors is that tensors can be run on a GPU (much faster for numerical computing)"
      ],
      "metadata": {
        "id": "SNyPowVNoKai"
      }
    },
    {
      "cell_type": "code",
      "source": [
        "# You can also turn Numpy arrays into tensors\n",
        "\n",
        "import numpy as np\n",
        "numpy_A = np.arange(1, 25, dtype=np.int32) # create a Numpy array between 1 and 25\n",
        "numpy_A\n",
        "\n",
        "# X - tf.constant(some_matrix) # capital for matrix or tensor\n",
        "# y = tf.constant(vector) # non-capital for vector"
      ],
      "metadata": {
        "id": "D6JQ4scIoIr7",
        "outputId": "11f82514-0488-4f16-ab5e-1f5a16b5a82b",
        "colab": {
          "base_uri": "https://localhost:8080/"
        }
      },
      "execution_count": null,
      "outputs": [
        {
          "output_type": "execute_result",
          "data": {
            "text/plain": [
              "array([ 1,  2,  3,  4,  5,  6,  7,  8,  9, 10, 11, 12, 13, 14, 15, 16, 17,\n",
              "       18, 19, 20, 21, 22, 23, 24], dtype=int32)"
            ]
          },
          "metadata": {},
          "execution_count": 90
        }
      ]
    },
    {
      "cell_type": "code",
      "source": [
        "A = tf.constant(numpy_A)\n",
        "A"
      ],
      "metadata": {
        "id": "Y-UZxsTWozzV",
        "outputId": "821763d1-e1b9-48bb-84e0-724682f9c595",
        "colab": {
          "base_uri": "https://localhost:8080/"
        }
      },
      "execution_count": null,
      "outputs": [
        {
          "output_type": "execute_result",
          "data": {
            "text/plain": [
              "<tf.Tensor: shape=(24,), dtype=int32, numpy=\n",
              "array([ 1,  2,  3,  4,  5,  6,  7,  8,  9, 10, 11, 12, 13, 14, 15, 16, 17,\n",
              "       18, 19, 20, 21, 22, 23, 24], dtype=int32)>"
            ]
          },
          "metadata": {},
          "execution_count": 91
        }
      ]
    },
    {
      "cell_type": "code",
      "source": [
        "A = tf.constant(numpy_A, shape=(3,8))\n",
        "B = tf.constant(numpy_A)\n",
        "A, B"
      ],
      "metadata": {
        "id": "d5GreG1Fo8w7",
        "outputId": "821ac22e-b597-458e-f86d-ddbc34abf033",
        "colab": {
          "base_uri": "https://localhost:8080/"
        }
      },
      "execution_count": null,
      "outputs": [
        {
          "output_type": "execute_result",
          "data": {
            "text/plain": [
              "(<tf.Tensor: shape=(3, 8), dtype=int32, numpy=\n",
              " array([[ 1,  2,  3,  4,  5,  6,  7,  8],\n",
              "        [ 9, 10, 11, 12, 13, 14, 15, 16],\n",
              "        [17, 18, 19, 20, 21, 22, 23, 24]], dtype=int32)>,\n",
              " <tf.Tensor: shape=(24,), dtype=int32, numpy=\n",
              " array([ 1,  2,  3,  4,  5,  6,  7,  8,  9, 10, 11, 12, 13, 14, 15, 16, 17,\n",
              "        18, 19, 20, 21, 22, 23, 24], dtype=int32)>)"
            ]
          },
          "metadata": {},
          "execution_count": 92
        }
      ]
    },
    {
      "cell_type": "code",
      "source": [
        "2 * 3 * 4"
      ],
      "metadata": {
        "id": "kFhr11HIo8bz",
        "outputId": "9d35f8ab-1bee-4a70-d77d-72bea4d52265",
        "colab": {
          "base_uri": "https://localhost:8080/"
        }
      },
      "execution_count": null,
      "outputs": [
        {
          "output_type": "execute_result",
          "data": {
            "text/plain": [
              "24"
            ]
          },
          "metadata": {},
          "execution_count": 93
        }
      ]
    },
    {
      "cell_type": "code",
      "source": [
        "3 * 8"
      ],
      "metadata": {
        "id": "GGxJsfQupoaM",
        "outputId": "7f093ff5-643a-4a09-e1e5-ac2df10bbd97",
        "colab": {
          "base_uri": "https://localhost:8080/"
        }
      },
      "execution_count": null,
      "outputs": [
        {
          "output_type": "execute_result",
          "data": {
            "text/plain": [
              "24"
            ]
          },
          "metadata": {},
          "execution_count": 94
        }
      ]
    },
    {
      "cell_type": "markdown",
      "source": [
        "# Getting more information from tensors\n",
        "\n",
        "* Shape\n",
        "* Rank\n",
        "* Axis or Dimension\n",
        "* Size"
      ],
      "metadata": {
        "id": "hIUpyaLrppOw"
      }
    },
    {
      "cell_type": "code",
      "source": [
        "# Create a rank 4 tensor (4 dimensions)\n",
        "\n",
        "rank_4_tensor = tf.zeros(shape=[2,3,4,5])\n",
        "rank_4_tensor"
      ],
      "metadata": {
        "id": "80QuviOWpsnc",
        "outputId": "336ceaff-cee9-49b5-8159-4eb0567035ee",
        "colab": {
          "base_uri": "https://localhost:8080/"
        }
      },
      "execution_count": null,
      "outputs": [
        {
          "output_type": "execute_result",
          "data": {
            "text/plain": [
              "<tf.Tensor: shape=(2, 3, 4, 5), dtype=float32, numpy=\n",
              "array([[[[0., 0., 0., 0., 0.],\n",
              "         [0., 0., 0., 0., 0.],\n",
              "         [0., 0., 0., 0., 0.],\n",
              "         [0., 0., 0., 0., 0.]],\n",
              "\n",
              "        [[0., 0., 0., 0., 0.],\n",
              "         [0., 0., 0., 0., 0.],\n",
              "         [0., 0., 0., 0., 0.],\n",
              "         [0., 0., 0., 0., 0.]],\n",
              "\n",
              "        [[0., 0., 0., 0., 0.],\n",
              "         [0., 0., 0., 0., 0.],\n",
              "         [0., 0., 0., 0., 0.],\n",
              "         [0., 0., 0., 0., 0.]]],\n",
              "\n",
              "\n",
              "       [[[0., 0., 0., 0., 0.],\n",
              "         [0., 0., 0., 0., 0.],\n",
              "         [0., 0., 0., 0., 0.],\n",
              "         [0., 0., 0., 0., 0.]],\n",
              "\n",
              "        [[0., 0., 0., 0., 0.],\n",
              "         [0., 0., 0., 0., 0.],\n",
              "         [0., 0., 0., 0., 0.],\n",
              "         [0., 0., 0., 0., 0.]],\n",
              "\n",
              "        [[0., 0., 0., 0., 0.],\n",
              "         [0., 0., 0., 0., 0.],\n",
              "         [0., 0., 0., 0., 0.],\n",
              "         [0., 0., 0., 0., 0.]]]], dtype=float32)>"
            ]
          },
          "metadata": {},
          "execution_count": 96
        }
      ]
    },
    {
      "cell_type": "code",
      "source": [
        "rank_4_tensor[0]"
      ],
      "metadata": {
        "id": "8deodh34rCtA",
        "outputId": "2e7511b7-ab4d-465a-c8df-48c9f62e8017",
        "colab": {
          "base_uri": "https://localhost:8080/"
        }
      },
      "execution_count": null,
      "outputs": [
        {
          "output_type": "execute_result",
          "data": {
            "text/plain": [
              "<tf.Tensor: shape=(3, 4, 5), dtype=float32, numpy=\n",
              "array([[[0., 0., 0., 0., 0.],\n",
              "        [0., 0., 0., 0., 0.],\n",
              "        [0., 0., 0., 0., 0.],\n",
              "        [0., 0., 0., 0., 0.]],\n",
              "\n",
              "       [[0., 0., 0., 0., 0.],\n",
              "        [0., 0., 0., 0., 0.],\n",
              "        [0., 0., 0., 0., 0.],\n",
              "        [0., 0., 0., 0., 0.]],\n",
              "\n",
              "       [[0., 0., 0., 0., 0.],\n",
              "        [0., 0., 0., 0., 0.],\n",
              "        [0., 0., 0., 0., 0.],\n",
              "        [0., 0., 0., 0., 0.]]], dtype=float32)>"
            ]
          },
          "metadata": {},
          "execution_count": 97
        }
      ]
    },
    {
      "cell_type": "code",
      "source": [
        "rank_4_tensor.shape, rank_4_tensor.ndim, tf.size(rank_4_tensor)"
      ],
      "metadata": {
        "id": "un2FCFCcrCqc",
        "outputId": "911619d4-e7a7-4a30-f2fc-bbdea162b830",
        "colab": {
          "base_uri": "https://localhost:8080/"
        }
      },
      "execution_count": null,
      "outputs": [
        {
          "output_type": "execute_result",
          "data": {
            "text/plain": [
              "(TensorShape([2, 3, 4, 5]), 4, <tf.Tensor: shape=(), dtype=int32, numpy=120>)"
            ]
          },
          "metadata": {},
          "execution_count": 98
        }
      ]
    },
    {
      "cell_type": "code",
      "source": [
        "2 * 3 * 4 * 5"
      ],
      "metadata": {
        "id": "GJhV3t6xrCRa",
        "outputId": "9ca8ae6d-3856-4c17-a21e-2788eefd95c6",
        "colab": {
          "base_uri": "https://localhost:8080/"
        }
      },
      "execution_count": null,
      "outputs": [
        {
          "output_type": "execute_result",
          "data": {
            "text/plain": [
              "120"
            ]
          },
          "metadata": {},
          "execution_count": 99
        }
      ]
    },
    {
      "cell_type": "code",
      "source": [
        "# Get various attributes of our tensors\n",
        "print(\"Datatype of every element:\", rank_4_tensor.dtype)\n",
        "print(\"Number of dimensions (rank):\", rank_4_tensor.ndim)\n",
        "print(\"Shape of tensor:\", rank_4_tensor.shape)\n",
        "print(\"Elements along the 0 axis:\", rank_4_tensor.shape[0])\n",
        "print(\"Elements along the last axis:\", rank_4_tensor.shape[-1])\n",
        "print(\"Total number of elements in our tensor:\", tf.size(rank_4_tensor))\n",
        "print(\"Total number of elements in our tensor:\", tf.size(rank_4_tensor).numpy())"
      ],
      "metadata": {
        "id": "RBLd44cIsTZa",
        "outputId": "ffba0b2f-5719-49f3-80c2-356396e9fbfd",
        "colab": {
          "base_uri": "https://localhost:8080/"
        }
      },
      "execution_count": null,
      "outputs": [
        {
          "output_type": "stream",
          "name": "stdout",
          "text": [
            "Datatype of every element: <dtype: 'float32'>\n",
            "Number of dimensions (rank): 4\n",
            "Shape of tensor: (2, 3, 4, 5)\n",
            "Elements along the 0 axis: 2\n",
            "Elements along the last axis: 5\n",
            "Total number of elements in our tensor: tf.Tensor(120, shape=(), dtype=int32)\n",
            "Total number of elements in our tensor: 120\n"
          ]
        }
      ]
    },
    {
      "cell_type": "markdown",
      "source": [
        "# Indexing Tensors\n",
        "\n",
        "Tensors can be indexed just like lists in python"
      ],
      "metadata": {
        "id": "rmjFiEbOtR_-"
      }
    },
    {
      "cell_type": "code",
      "source": [
        "# Get the dimension from each index except for the final one\n",
        "rank_4_tensor[:2,:2,:2,:2]"
      ],
      "metadata": {
        "id": "uZ2y1FpNs1yW",
        "outputId": "94a56736-bd58-43d7-cd19-0b284403d138",
        "colab": {
          "base_uri": "https://localhost:8080/"
        }
      },
      "execution_count": null,
      "outputs": [
        {
          "output_type": "execute_result",
          "data": {
            "text/plain": [
              "<tf.Tensor: shape=(2, 2, 2, 2), dtype=float32, numpy=\n",
              "array([[[[0., 0.],\n",
              "         [0., 0.]],\n",
              "\n",
              "        [[0., 0.],\n",
              "         [0., 0.]]],\n",
              "\n",
              "\n",
              "       [[[0., 0.],\n",
              "         [0., 0.]],\n",
              "\n",
              "        [[0., 0.],\n",
              "         [0., 0.]]]], dtype=float32)>"
            ]
          },
          "metadata": {},
          "execution_count": 103
        }
      ]
    },
    {
      "cell_type": "code",
      "source": [
        "# Get the dimension from each index except for the final one\n",
        "rank_4_tensor[:1,:1,:1,:]"
      ],
      "metadata": {
        "id": "LQbX3zd-tBVX",
        "outputId": "92a39be2-644e-400d-f7d2-3fa073f276fa",
        "colab": {
          "base_uri": "https://localhost:8080/"
        }
      },
      "execution_count": null,
      "outputs": [
        {
          "output_type": "execute_result",
          "data": {
            "text/plain": [
              "<tf.Tensor: shape=(1, 1, 1, 5), dtype=float32, numpy=array([[[[0., 0., 0., 0., 0.]]]], dtype=float32)>"
            ]
          },
          "metadata": {},
          "execution_count": 105
        }
      ]
    },
    {
      "cell_type": "code",
      "source": [
        "rank_4_tensor.shape"
      ],
      "metadata": {
        "id": "GvJVDjmjuh5t",
        "outputId": "e2b1afc1-a8d7-4c73-edd8-c028502356e0",
        "colab": {
          "base_uri": "https://localhost:8080/"
        }
      },
      "execution_count": null,
      "outputs": [
        {
          "output_type": "execute_result",
          "data": {
            "text/plain": [
              "TensorShape([2, 3, 4, 5])"
            ]
          },
          "metadata": {},
          "execution_count": 108
        }
      ]
    },
    {
      "cell_type": "code",
      "source": [
        "rank_4_tensor[:1,:1,:,:1]"
      ],
      "metadata": {
        "id": "vr1SykCbt215",
        "outputId": "85651286-6ea0-49e6-8a41-972ee577eb39",
        "colab": {
          "base_uri": "https://localhost:8080/"
        }
      },
      "execution_count": null,
      "outputs": [
        {
          "output_type": "execute_result",
          "data": {
            "text/plain": [
              "<tf.Tensor: shape=(1, 1, 4, 1), dtype=float32, numpy=\n",
              "array([[[[0.],\n",
              "         [0.],\n",
              "         [0.],\n",
              "         [0.]]]], dtype=float32)>"
            ]
          },
          "metadata": {},
          "execution_count": 107
        }
      ]
    },
    {
      "cell_type": "code",
      "source": [
        "rank_4_tensor.shape"
      ],
      "metadata": {
        "id": "tf46ESMZuwOW",
        "outputId": "f6bed336-fe74-4ace-bf7a-5a8c69c3fcec",
        "colab": {
          "base_uri": "https://localhost:8080/"
        }
      },
      "execution_count": null,
      "outputs": [
        {
          "output_type": "execute_result",
          "data": {
            "text/plain": [
              "TensorShape([2, 3, 4, 5])"
            ]
          },
          "metadata": {},
          "execution_count": 109
        }
      ]
    },
    {
      "cell_type": "code",
      "source": [
        "rank_4_tensor[:1,:,:1,:1]"
      ],
      "metadata": {
        "id": "itKdBdmYuw1Q",
        "outputId": "a4cfdf08-4b3a-4bea-c52f-3f0a01ef3a66",
        "colab": {
          "base_uri": "https://localhost:8080/"
        }
      },
      "execution_count": null,
      "outputs": [
        {
          "output_type": "execute_result",
          "data": {
            "text/plain": [
              "<tf.Tensor: shape=(1, 3, 1, 1), dtype=float32, numpy=\n",
              "array([[[[0.]],\n",
              "\n",
              "        [[0.]],\n",
              "\n",
              "        [[0.]]]], dtype=float32)>"
            ]
          },
          "metadata": {},
          "execution_count": 110
        }
      ]
    },
    {
      "cell_type": "code",
      "source": [
        "rank_4_tensor[:,:1,:1,:1]"
      ],
      "metadata": {
        "id": "z7GnUkgBvBBC",
        "outputId": "8b7b3eec-c490-4e15-9352-12ab4a25f470",
        "colab": {
          "base_uri": "https://localhost:8080/"
        }
      },
      "execution_count": null,
      "outputs": [
        {
          "output_type": "execute_result",
          "data": {
            "text/plain": [
              "<tf.Tensor: shape=(2, 1, 1, 1), dtype=float32, numpy=\n",
              "array([[[[0.]]],\n",
              "\n",
              "\n",
              "       [[[0.]]]], dtype=float32)>"
            ]
          },
          "metadata": {},
          "execution_count": 111
        }
      ]
    },
    {
      "cell_type": "code",
      "source": [
        "import tensorflow as tf\n",
        "# Create a rank 2 tensor (2 dimensions)\n",
        "rank_2_tensor = tf.constant([[10,7],\n",
        "                             [3,4]])\n",
        "rank_2_tensor"
      ],
      "metadata": {
        "id": "fIa070LlvG0B",
        "outputId": "05a473ea-99da-4c5d-c605-cd50b4002b06",
        "colab": {
          "base_uri": "https://localhost:8080/"
        }
      },
      "execution_count": 4,
      "outputs": [
        {
          "output_type": "execute_result",
          "data": {
            "text/plain": [
              "<tf.Tensor: shape=(2, 2), dtype=int32, numpy=\n",
              "array([[10,  7],\n",
              "       [ 3,  4]], dtype=int32)>"
            ]
          },
          "metadata": {},
          "execution_count": 4
        }
      ]
    },
    {
      "cell_type": "code",
      "source": [
        "rank_2_tensor.shape, rank_2_tensor.ndim"
      ],
      "metadata": {
        "id": "M8wQez82vb83",
        "outputId": "9b4e5fec-60b5-40dd-92f3-c9cc33738f9a",
        "colab": {
          "base_uri": "https://localhost:8080/"
        }
      },
      "execution_count": 5,
      "outputs": [
        {
          "output_type": "execute_result",
          "data": {
            "text/plain": [
              "(TensorShape([2, 2]), 2)"
            ]
          },
          "metadata": {},
          "execution_count": 5
        }
      ]
    },
    {
      "cell_type": "code",
      "source": [
        "# Get the last item of each of our rank 2 tensor\n",
        "rank_2_tensor[:,-1]"
      ],
      "metadata": {
        "id": "dcSQ4R7evdXy",
        "outputId": "4c72a21f-cff6-4ea5-acb7-660ebb99d763",
        "colab": {
          "base_uri": "https://localhost:8080/"
        }
      },
      "execution_count": 6,
      "outputs": [
        {
          "output_type": "execute_result",
          "data": {
            "text/plain": [
              "<tf.Tensor: shape=(2,), dtype=int32, numpy=array([7, 4], dtype=int32)>"
            ]
          },
          "metadata": {},
          "execution_count": 6
        }
      ]
    },
    {
      "cell_type": "code",
      "source": [
        "# Add in extra dimension to our rank 2 tensor\n",
        "rank_3_tensor = rank_2_tensor[...,tf.newaxis]\n",
        "rank_3_tensor"
      ],
      "metadata": {
        "id": "jU7VBVUCfu_K",
        "outputId": "e07939f6-b544-4fdd-a48a-2e45369067ab",
        "colab": {
          "base_uri": "https://localhost:8080/"
        }
      },
      "execution_count": 7,
      "outputs": [
        {
          "output_type": "execute_result",
          "data": {
            "text/plain": [
              "<tf.Tensor: shape=(2, 2, 1), dtype=int32, numpy=\n",
              "array([[[10],\n",
              "        [ 7]],\n",
              "\n",
              "       [[ 3],\n",
              "        [ 4]]], dtype=int32)>"
            ]
          },
          "metadata": {},
          "execution_count": 7
        }
      ]
    },
    {
      "cell_type": "code",
      "source": [
        "# Alternative to tf.newaxis\n",
        "\n",
        "tf.expand_dims(rank_2_tensor, axis=-1) # \"-1\" means expand the final axis"
      ],
      "metadata": {
        "id": "__k8EuDNgDuQ",
        "outputId": "726fa1f9-bed8-4e36-b52d-025c34054e26",
        "colab": {
          "base_uri": "https://localhost:8080/"
        }
      },
      "execution_count": 8,
      "outputs": [
        {
          "output_type": "execute_result",
          "data": {
            "text/plain": [
              "<tf.Tensor: shape=(2, 2, 1), dtype=int32, numpy=\n",
              "array([[[10],\n",
              "        [ 7]],\n",
              "\n",
              "       [[ 3],\n",
              "        [ 4]]], dtype=int32)>"
            ]
          },
          "metadata": {},
          "execution_count": 8
        }
      ]
    },
    {
      "cell_type": "code",
      "source": [
        "# Alternative to tf.newaxis\n",
        "\n",
        "tf.expand_dims(rank_2_tensor, axis=0) # \"0\" means expand in front"
      ],
      "metadata": {
        "id": "bG0YAxlogqKO",
        "outputId": "47f2cbe6-4150-40f4-bdff-a68fcc40a2ff",
        "colab": {
          "base_uri": "https://localhost:8080/"
        }
      },
      "execution_count": 9,
      "outputs": [
        {
          "output_type": "execute_result",
          "data": {
            "text/plain": [
              "<tf.Tensor: shape=(1, 2, 2), dtype=int32, numpy=\n",
              "array([[[10,  7],\n",
              "        [ 3,  4]]], dtype=int32)>"
            ]
          },
          "metadata": {},
          "execution_count": 9
        }
      ]
    },
    {
      "cell_type": "code",
      "source": [
        "rank_2_tensor"
      ],
      "metadata": {
        "id": "9qbwZK0Yg0IJ",
        "outputId": "b1e22864-89b7-42e1-f21b-4bcc208273d3",
        "colab": {
          "base_uri": "https://localhost:8080/"
        }
      },
      "execution_count": 10,
      "outputs": [
        {
          "output_type": "execute_result",
          "data": {
            "text/plain": [
              "<tf.Tensor: shape=(2, 2), dtype=int32, numpy=\n",
              "array([[10,  7],\n",
              "       [ 3,  4]], dtype=int32)>"
            ]
          },
          "metadata": {},
          "execution_count": 10
        }
      ]
    },
    {
      "cell_type": "markdown",
      "source": [
        "# Manipulating Tensors (Tensor Operations)\n",
        "\n",
        "** Basic Operations **\n",
        "\n",
        "`+`, `-`,`*`,`/`"
      ],
      "metadata": {
        "id": "wxwJets0g3fC"
      }
    },
    {
      "cell_type": "code",
      "source": [
        "# YOu can add values to a tensor using the addition operator\n",
        "tensor = tf.constant([[10,7],[3,4]])\n",
        "tensor + 10"
      ],
      "metadata": {
        "id": "xyNYXUZag7Bl",
        "outputId": "91b8d1ec-4b6d-4fa8-f970-9f01108eeec6",
        "colab": {
          "base_uri": "https://localhost:8080/"
        }
      },
      "execution_count": 11,
      "outputs": [
        {
          "output_type": "execute_result",
          "data": {
            "text/plain": [
              "<tf.Tensor: shape=(2, 2), dtype=int32, numpy=\n",
              "array([[20, 17],\n",
              "       [13, 14]], dtype=int32)>"
            ]
          },
          "metadata": {},
          "execution_count": 11
        }
      ]
    },
    {
      "cell_type": "code",
      "source": [
        "# Original tensor is unchanged\n",
        "tensor"
      ],
      "metadata": {
        "id": "vtiMH4a3hXjt",
        "outputId": "3a6b1ffc-fd0f-4f8c-dce6-34ea73bbe556",
        "colab": {
          "base_uri": "https://localhost:8080/"
        }
      },
      "execution_count": 13,
      "outputs": [
        {
          "output_type": "execute_result",
          "data": {
            "text/plain": [
              "<tf.Tensor: shape=(2, 2), dtype=int32, numpy=\n",
              "array([[10,  7],\n",
              "       [ 3,  4]], dtype=int32)>"
            ]
          },
          "metadata": {},
          "execution_count": 13
        }
      ]
    },
    {
      "cell_type": "code",
      "source": [
        "# Multiplication also works\n",
        "tensor * 10"
      ],
      "metadata": {
        "id": "hGNOO5dYhk3d",
        "outputId": "9e181cac-a492-4cba-a321-19b78dc152c7",
        "colab": {
          "base_uri": "https://localhost:8080/"
        }
      },
      "execution_count": 15,
      "outputs": [
        {
          "output_type": "execute_result",
          "data": {
            "text/plain": [
              "<tf.Tensor: shape=(2, 2), dtype=int32, numpy=\n",
              "array([[100,  70],\n",
              "       [ 30,  40]], dtype=int32)>"
            ]
          },
          "metadata": {},
          "execution_count": 15
        }
      ]
    },
    {
      "cell_type": "code",
      "source": [
        "# Subtraction if you want\n",
        "tensor - 10"
      ],
      "metadata": {
        "id": "eaC2bUr0hqtG",
        "outputId": "6f80a703-744d-40a3-ea2f-2332e4984548",
        "colab": {
          "base_uri": "https://localhost:8080/"
        }
      },
      "execution_count": 16,
      "outputs": [
        {
          "output_type": "execute_result",
          "data": {
            "text/plain": [
              "<tf.Tensor: shape=(2, 2), dtype=int32, numpy=\n",
              "array([[ 0, -3],\n",
              "       [-7, -6]], dtype=int32)>"
            ]
          },
          "metadata": {},
          "execution_count": 16
        }
      ]
    },
    {
      "cell_type": "code",
      "source": [
        "# We can use the tensorflow built-in function too\n",
        "tf.multiply(tensor, 10)"
      ],
      "metadata": {
        "id": "fa3ecAu8hqq9",
        "outputId": "c9d95397-6e63-4d9b-c924-5565077496cd",
        "colab": {
          "base_uri": "https://localhost:8080/"
        }
      },
      "execution_count": 17,
      "outputs": [
        {
          "output_type": "execute_result",
          "data": {
            "text/plain": [
              "<tf.Tensor: shape=(2, 2), dtype=int32, numpy=\n",
              "array([[100,  70],\n",
              "       [ 30,  40]], dtype=int32)>"
            ]
          },
          "metadata": {},
          "execution_count": 17
        }
      ]
    },
    {
      "cell_type": "markdown",
      "source": [
        "## **Matrix Multiplication**\n",
        "\n",
        "In Machine Learning Matrix Learning is the most basic operation\n",
        "\n",
        "https://www.mathsisfun.com/algebra/matrix-multiplying.html\n",
        "\n",
        "http://matrixmultiplication.xyz/"
      ],
      "metadata": {
        "id": "Gd5OIxCHidsd"
      }
    },
    {
      "cell_type": "code",
      "source": [
        "# Matrix Multiplication in Tensorflow\n",
        "print(tensor)\n",
        "tf.matmul(tensor, tensor)\n"
      ],
      "metadata": {
        "id": "BuakSZ6_hqo2",
        "outputId": "9a5c3c00-b75e-45c0-c3ac-5ce581d99cd0",
        "colab": {
          "base_uri": "https://localhost:8080/"
        }
      },
      "execution_count": 19,
      "outputs": [
        {
          "output_type": "stream",
          "name": "stdout",
          "text": [
            "tf.Tensor(\n",
            "[[10  7]\n",
            " [ 3  4]], shape=(2, 2), dtype=int32)\n"
          ]
        },
        {
          "output_type": "execute_result",
          "data": {
            "text/plain": [
              "<tf.Tensor: shape=(2, 2), dtype=int32, numpy=\n",
              "array([[121,  98],\n",
              "       [ 42,  37]], dtype=int32)>"
            ]
          },
          "metadata": {},
          "execution_count": 19
        }
      ]
    },
    {
      "cell_type": "code",
      "source": [
        "tensor * tensor"
      ],
      "metadata": {
        "id": "JsmzZR0wlpUC",
        "outputId": "0db9ef59-1ef2-41fa-bc39-ad097ecb248e",
        "colab": {
          "base_uri": "https://localhost:8080/"
        }
      },
      "execution_count": 20,
      "outputs": [
        {
          "output_type": "execute_result",
          "data": {
            "text/plain": [
              "<tf.Tensor: shape=(2, 2), dtype=int32, numpy=\n",
              "array([[100,  49],\n",
              "       [  9,  16]], dtype=int32)>"
            ]
          },
          "metadata": {},
          "execution_count": 20
        }
      ]
    },
    {
      "cell_type": "code",
      "source": [
        "# Matrix Mutlication with python operator \"@\"\n",
        "tf.matmul(tensor, tensor)"
      ],
      "metadata": {
        "id": "-H00thVHlkdV",
        "outputId": "bec5d534-c542-41ca-fba3-9557eabffe3d",
        "colab": {
          "base_uri": "https://localhost:8080/"
        }
      },
      "execution_count": 22,
      "outputs": [
        {
          "output_type": "execute_result",
          "data": {
            "text/plain": [
              "<tf.Tensor: shape=(2, 2), dtype=int32, numpy=\n",
              "array([[121,  98],\n",
              "       [ 42,  37]], dtype=int32)>"
            ]
          },
          "metadata": {},
          "execution_count": 22
        }
      ]
    },
    {
      "cell_type": "code",
      "source": [
        "# try out a different example\n",
        "tensor1 = tf.constant([[1,2,5],\n",
        "                      [7,2,1],\n",
        "                      [3,3,3]])\n",
        "tensor2 = tf.constant([[3,5],\n",
        "                      [6,7],\n",
        "                      [1,8]])\n",
        "tf.matmul(tensor1,tensor2)"
      ],
      "metadata": {
        "id": "Wi7iwjFml4gv",
        "outputId": "ace8d7be-1afd-4e9c-a83d-7177e9ebdfda",
        "colab": {
          "base_uri": "https://localhost:8080/"
        }
      },
      "execution_count": 24,
      "outputs": [
        {
          "output_type": "execute_result",
          "data": {
            "text/plain": [
              "<tf.Tensor: shape=(3, 2), dtype=int32, numpy=\n",
              "array([[20, 59],\n",
              "       [34, 57],\n",
              "       [30, 60]], dtype=int32)>"
            ]
          },
          "metadata": {},
          "execution_count": 24
        }
      ]
    },
    {
      "cell_type": "code",
      "source": [
        "tensor1.shape"
      ],
      "metadata": {
        "id": "ZxNLgeqvmVKR",
        "outputId": "0c6d9ebe-6070-4c29-f861-7606f408bfa8",
        "colab": {
          "base_uri": "https://localhost:8080/"
        }
      },
      "execution_count": 26,
      "outputs": [
        {
          "output_type": "execute_result",
          "data": {
            "text/plain": [
              "TensorShape([3, 3])"
            ]
          },
          "metadata": {},
          "execution_count": 26
        }
      ]
    },
    {
      "cell_type": "code",
      "source": [
        "tensor2.shape"
      ],
      "metadata": {
        "id": "73JypkXDmYCK",
        "outputId": "1bf78d7f-ac00-42c5-8e33-e031e55a7754",
        "colab": {
          "base_uri": "https://localhost:8080/"
        }
      },
      "execution_count": 27,
      "outputs": [
        {
          "output_type": "execute_result",
          "data": {
            "text/plain": [
              "TensorShape([3, 2])"
            ]
          },
          "metadata": {},
          "execution_count": 27
        }
      ]
    },
    {
      "cell_type": "code",
      "source": [
        "# Using python operation @\n",
        "\n",
        "tensor1 @ tensor2"
      ],
      "metadata": {
        "id": "0RDPgou3mOv-",
        "outputId": "03b6aefc-54d8-47fb-f91a-bafa8ad2b2cc",
        "colab": {
          "base_uri": "https://localhost:8080/"
        }
      },
      "execution_count": 25,
      "outputs": [
        {
          "output_type": "execute_result",
          "data": {
            "text/plain": [
              "<tf.Tensor: shape=(3, 2), dtype=int32, numpy=\n",
              "array([[20, 59],\n",
              "       [34, 57],\n",
              "       [30, 60]], dtype=int32)>"
            ]
          },
          "metadata": {},
          "execution_count": 25
        }
      ]
    },
    {
      "cell_type": "markdown",
      "source": [
        "## 🛠 Exercises\n",
        "\n",
        "1. Create a vector, scalar, matrix and tensor with values of your choosing using `tf.constant()`.\n",
        "2. Find the shape, rank and size of the tensors you created in 1.\n",
        "3. Create two tensors containing random values between 0 and 1 with shape `[5, 300]`.\n",
        "4. Multiply the two tensors you created in 3 using matrix multiplication.\n",
        "5. Multiply the two tensors you created in 3 using dot product.\n",
        "6. Create a tensor with random values between 0 and 1 with shape `[224, 224, 3]`.\n",
        "7. Find the min and max values of the tensor you created in 6.\n",
        "8. Created a tensor with random values of shape `[1, 224, 224, 3]` then squeeze it to change the shape to `[224, 224, 3]`.\n",
        "9. Create a tensor with shape `[10]` using your own choice of values, then find the index which has the maximum value.\n",
        "10. One-hot encode the tensor you created in 9."
      ],
      "metadata": {
        "id": "Fsw8Jg6-z2T1"
      }
    },
    {
      "cell_type": "code",
      "source": [
        "tensor1 = tf.random.uniform(shape=[5, 300], minval=0, maxval=1)"
      ],
      "metadata": {
        "id": "TP2IgWtWoCGS"
      },
      "execution_count": 58,
      "outputs": []
    },
    {
      "cell_type": "code",
      "source": [
        "tensor1"
      ],
      "metadata": {
        "id": "L9Hc09XRtMSE",
        "outputId": "e0a9680d-0d38-4240-fa03-02c173c898c5",
        "colab": {
          "base_uri": "https://localhost:8080/"
        }
      },
      "execution_count": 64,
      "outputs": [
        {
          "output_type": "execute_result",
          "data": {
            "text/plain": [
              "<tf.Tensor: shape=(5, 300), dtype=float32, numpy=\n",
              "array([[0.46534383, 0.14094782, 0.9572284 , ..., 0.15350008, 0.41463447,\n",
              "        0.3603413 ],\n",
              "       [0.5787257 , 0.82150555, 0.6737056 , ..., 0.2641399 , 0.09589946,\n",
              "        0.22613299],\n",
              "       [0.9982258 , 0.93280184, 0.38423944, ..., 0.0608182 , 0.4924376 ,\n",
              "        0.9774257 ],\n",
              "       [0.32395577, 0.25026143, 0.6628783 , ..., 0.78991127, 0.32846367,\n",
              "        0.5880183 ],\n",
              "       [0.5977572 , 0.26534796, 0.18649602, ..., 0.7420039 , 0.5621674 ,\n",
              "        0.07687378]], dtype=float32)>"
            ]
          },
          "metadata": {},
          "execution_count": 64
        }
      ]
    },
    {
      "cell_type": "code",
      "source": [
        "tensor2 = tf.random.uniform(shape=[5, 300], minval=0, maxval=1)"
      ],
      "metadata": {
        "id": "9VkWgJvXtQ-P"
      },
      "execution_count": 66,
      "outputs": []
    },
    {
      "cell_type": "code",
      "source": [
        "tensor2"
      ],
      "metadata": {
        "id": "9oxdSQiJtOk9",
        "outputId": "838581e4-3601-4be1-8aba-f13480ae1fd9",
        "colab": {
          "base_uri": "https://localhost:8080/"
        }
      },
      "execution_count": 67,
      "outputs": [
        {
          "output_type": "execute_result",
          "data": {
            "text/plain": [
              "<tf.Tensor: shape=(5, 300), dtype=float32, numpy=\n",
              "array([[0.6080158 , 0.1552211 , 0.09988916, ..., 0.33046508, 0.69261193,\n",
              "        0.6339328 ],\n",
              "       [0.9636282 , 0.16024065, 0.05099142, ..., 0.6139568 , 0.21535718,\n",
              "        0.2679701 ],\n",
              "       [0.15558493, 0.8130878 , 0.31600285, ..., 0.53727865, 0.58612597,\n",
              "        0.12630022],\n",
              "       [0.4472363 , 0.59625006, 0.7160723 , ..., 0.13406897, 0.44834304,\n",
              "        0.5362768 ],\n",
              "       [0.46803725, 0.5295124 , 0.42965698, ..., 0.76599276, 0.512838  ,\n",
              "        0.8641262 ]], dtype=float32)>"
            ]
          },
          "metadata": {},
          "execution_count": 67
        }
      ]
    },
    {
      "cell_type": "code",
      "source": [
        "tensor2=tf.transpose(tensor2)"
      ],
      "metadata": {
        "id": "ztfw7TXSsbJD"
      },
      "execution_count": 74,
      "outputs": []
    },
    {
      "cell_type": "code",
      "source": [
        "tensor2.shape"
      ],
      "metadata": {
        "id": "OSRHSom5tXaV",
        "outputId": "d7eebc0a-5aff-45e4-8b39-d092d585ea6f",
        "colab": {
          "base_uri": "https://localhost:8080/"
        }
      },
      "execution_count": 75,
      "outputs": [
        {
          "output_type": "execute_result",
          "data": {
            "text/plain": [
              "TensorShape([300, 5])"
            ]
          },
          "metadata": {},
          "execution_count": 75
        }
      ]
    },
    {
      "cell_type": "code",
      "source": [
        "tensor1 @ tensor2"
      ],
      "metadata": {
        "id": "cLHKUGPitiA3",
        "outputId": "31c0c76c-5d9e-4d09-d81d-eef10d89087b",
        "colab": {
          "base_uri": "https://localhost:8080/"
        }
      },
      "execution_count": 76,
      "outputs": [
        {
          "output_type": "execute_result",
          "data": {
            "text/plain": [
              "<tf.Tensor: shape=(5, 5), dtype=float32, numpy=\n",
              "array([[72.89124 , 74.468285, 70.51692 , 74.99363 , 68.39015 ],\n",
              "       [73.1517  , 75.90179 , 73.7629  , 71.94569 , 73.058945],\n",
              "       [76.17784 , 78.746864, 78.08838 , 79.3074  , 72.91912 ],\n",
              "       [69.007416, 70.6749  , 68.34386 , 70.94874 , 71.31838 ],\n",
              "       [72.33279 , 72.694336, 71.84979 , 72.37701 , 70.06849 ]],\n",
              "      dtype=float32)>"
            ]
          },
          "metadata": {},
          "execution_count": 76
        }
      ]
    },
    {
      "cell_type": "code",
      "source": [
        "tf.tensordot(tensor1,tensor2,axes=1)"
      ],
      "metadata": {
        "id": "Xnks5tw70asz",
        "outputId": "a251f6c1-329c-4056-c04a-2191360265e4",
        "colab": {
          "base_uri": "https://localhost:8080/"
        }
      },
      "execution_count": 99,
      "outputs": [
        {
          "output_type": "execute_result",
          "data": {
            "text/plain": [
              "<tf.Tensor: shape=(5, 5), dtype=float32, numpy=\n",
              "array([[72.89124 , 74.468285, 70.51692 , 74.99363 , 68.39015 ],\n",
              "       [73.1517  , 75.90179 , 73.7629  , 71.94569 , 73.058945],\n",
              "       [76.17784 , 78.746864, 78.08838 , 79.3074  , 72.91912 ],\n",
              "       [69.007416, 70.6749  , 68.34386 , 70.94874 , 71.31838 ],\n",
              "       [72.33279 , 72.694336, 71.84979 , 72.37701 , 70.06849 ]],\n",
              "      dtype=float32)>"
            ]
          },
          "metadata": {},
          "execution_count": 99
        }
      ]
    },
    {
      "cell_type": "code",
      "source": [
        "tf.matmul(tensor1,tensor2)"
      ],
      "metadata": {
        "id": "qGK2Pz9VtnZ6",
        "outputId": "14272b00-b6c6-4288-b535-6ba52e1f58de",
        "colab": {
          "base_uri": "https://localhost:8080/"
        }
      },
      "execution_count": 77,
      "outputs": [
        {
          "output_type": "execute_result",
          "data": {
            "text/plain": [
              "<tf.Tensor: shape=(5, 5), dtype=float32, numpy=\n",
              "array([[72.89124 , 74.468285, 70.51692 , 74.99363 , 68.39015 ],\n",
              "       [73.1517  , 75.90179 , 73.7629  , 71.94569 , 73.058945],\n",
              "       [76.17784 , 78.746864, 78.08838 , 79.3074  , 72.91912 ],\n",
              "       [69.007416, 70.6749  , 68.34386 , 70.94874 , 71.31838 ],\n",
              "       [72.33279 , 72.694336, 71.84979 , 72.37701 , 70.06849 ]],\n",
              "      dtype=float32)>"
            ]
          },
          "metadata": {},
          "execution_count": 77
        }
      ]
    },
    {
      "cell_type": "code",
      "source": [
        "tensor_3dim = tf.random.uniform(shape=[224, 224, 3], minval=0, maxval=1)\n",
        "tensor_3dim"
      ],
      "metadata": {
        "id": "3FFQgrobuEV2",
        "outputId": "bf4c6a86-76ff-4682-8353-b421a5921878",
        "colab": {
          "base_uri": "https://localhost:8080/"
        }
      },
      "execution_count": 78,
      "outputs": [
        {
          "output_type": "execute_result",
          "data": {
            "text/plain": [
              "<tf.Tensor: shape=(224, 224, 3), dtype=float32, numpy=\n",
              "array([[[0.5625652 , 0.8110266 , 0.89364314],\n",
              "        [0.57655656, 0.82369566, 0.2332238 ],\n",
              "        [0.23325253, 0.878258  , 0.07465017],\n",
              "        ...,\n",
              "        [0.5118426 , 0.21007383, 0.4712497 ],\n",
              "        [0.8341689 , 0.63463426, 0.50980926],\n",
              "        [0.7183778 , 0.14861834, 0.20190954]],\n",
              "\n",
              "       [[0.92411923, 0.15174139, 0.8564682 ],\n",
              "        [0.9724257 , 0.45743585, 0.3512149 ],\n",
              "        [0.06032062, 0.32627583, 0.90619624],\n",
              "        ...,\n",
              "        [0.16654348, 0.445992  , 0.45741653],\n",
              "        [0.45192623, 0.4234475 , 0.22283101],\n",
              "        [0.33362472, 0.75051737, 0.14858723]],\n",
              "\n",
              "       [[0.2213999 , 0.22631085, 0.86682975],\n",
              "        [0.9201659 , 0.71482015, 0.528352  ],\n",
              "        [0.7364427 , 0.93448055, 0.69036734],\n",
              "        ...,\n",
              "        [0.22012246, 0.59755397, 0.15743959],\n",
              "        [0.00818264, 0.37571537, 0.12779391],\n",
              "        [0.19060576, 0.43731654, 0.91006494]],\n",
              "\n",
              "       ...,\n",
              "\n",
              "       [[0.083022  , 0.49578834, 0.06537032],\n",
              "        [0.69165146, 0.04189909, 0.08727551],\n",
              "        [0.47012246, 0.17091346, 0.05255985],\n",
              "        ...,\n",
              "        [0.7721902 , 0.8073889 , 0.3731506 ],\n",
              "        [0.13699996, 0.60706794, 0.36382818],\n",
              "        [0.11521661, 0.27509248, 0.17710388]],\n",
              "\n",
              "       [[0.9030149 , 0.9957973 , 0.09555519],\n",
              "        [0.6644275 , 0.49298573, 0.4804709 ],\n",
              "        [0.5651778 , 0.6091199 , 0.93779457],\n",
              "        ...,\n",
              "        [0.22384226, 0.75147486, 0.41272438],\n",
              "        [0.43683803, 0.86337173, 0.5131792 ],\n",
              "        [0.42542338, 0.38200188, 0.8162857 ]],\n",
              "\n",
              "       [[0.891536  , 0.2834735 , 0.87821126],\n",
              "        [0.77403295, 0.924044  , 0.98831606],\n",
              "        [0.3697648 , 0.3814788 , 0.5495151 ],\n",
              "        ...,\n",
              "        [0.7561327 , 0.45606315, 0.81845915],\n",
              "        [0.7222799 , 0.41886866, 0.5776783 ],\n",
              "        [0.41153777, 0.5314702 , 0.4178126 ]]], dtype=float32)>"
            ]
          },
          "metadata": {},
          "execution_count": 78
        }
      ]
    },
    {
      "cell_type": "code",
      "source": [
        "tf.reduce_min(tensor_3dim)"
      ],
      "metadata": {
        "id": "NtqInj8duMhX",
        "outputId": "48b56ba9-033d-4bf5-f710-d2810f3276df",
        "colab": {
          "base_uri": "https://localhost:8080/"
        }
      },
      "execution_count": 80,
      "outputs": [
        {
          "output_type": "execute_result",
          "data": {
            "text/plain": [
              "<tf.Tensor: shape=(), dtype=float32, numpy=1.3113022e-06>"
            ]
          },
          "metadata": {},
          "execution_count": 80
        }
      ]
    },
    {
      "cell_type": "code",
      "source": [
        "tf.reduce_max(tensor_3dim)"
      ],
      "metadata": {
        "id": "6GJ8W8NYugkn",
        "outputId": "4477db26-67a2-4d9d-b2f1-f4963be54518",
        "colab": {
          "base_uri": "https://localhost:8080/"
        }
      },
      "execution_count": 81,
      "outputs": [
        {
          "output_type": "execute_result",
          "data": {
            "text/plain": [
              "<tf.Tensor: shape=(), dtype=float32, numpy=0.9999839>"
            ]
          },
          "metadata": {},
          "execution_count": 81
        }
      ]
    },
    {
      "cell_type": "code",
      "source": [
        "tensor_4dim = tf.random.uniform(shape=[1, 224, 224, 3], minval=0, maxval=1)\n",
        "tensor_4dim"
      ],
      "metadata": {
        "id": "I7hwImCwum5W",
        "outputId": "4ba543a2-37b2-402d-f6c7-39238584237d",
        "colab": {
          "base_uri": "https://localhost:8080/"
        }
      },
      "execution_count": 82,
      "outputs": [
        {
          "output_type": "execute_result",
          "data": {
            "text/plain": [
              "<tf.Tensor: shape=(1, 224, 224, 3), dtype=float32, numpy=\n",
              "array([[[[0.4826082 , 0.54192233, 0.39170742],\n",
              "         [0.33821893, 0.714162  , 0.83715117],\n",
              "         [0.8897449 , 0.13590908, 0.77442884],\n",
              "         ...,\n",
              "         [0.8028666 , 0.11988878, 0.7182691 ],\n",
              "         [0.17086196, 0.77955055, 0.08576965],\n",
              "         [0.69420266, 0.9713012 , 0.79078734]],\n",
              "\n",
              "        [[0.52770424, 0.3794968 , 0.0352788 ],\n",
              "         [0.08516574, 0.8415406 , 0.7275226 ],\n",
              "         [0.450431  , 0.18005037, 0.6199248 ],\n",
              "         ...,\n",
              "         [0.7624786 , 0.9219421 , 0.5734676 ],\n",
              "         [0.3122009 , 0.13971686, 0.5631106 ],\n",
              "         [0.939088  , 0.3883965 , 0.8236563 ]],\n",
              "\n",
              "        [[0.13820124, 0.71945024, 0.11655128],\n",
              "         [0.5656539 , 0.70356476, 0.16767216],\n",
              "         [0.40628827, 0.2653438 , 0.6300045 ],\n",
              "         ...,\n",
              "         [0.6881591 , 0.23695815, 0.86257386],\n",
              "         [0.404261  , 0.48247254, 0.32898796],\n",
              "         [0.7227098 , 0.490569  , 0.19999075]],\n",
              "\n",
              "        ...,\n",
              "\n",
              "        [[0.87089014, 0.36357915, 0.98845875],\n",
              "         [0.74174035, 0.27098417, 0.42059922],\n",
              "         [0.17003691, 0.659868  , 0.5252334 ],\n",
              "         ...,\n",
              "         [0.16692841, 0.42788553, 0.759532  ],\n",
              "         [0.7252579 , 0.1453954 , 0.98740447],\n",
              "         [0.65368295, 0.5749196 , 0.9016998 ]],\n",
              "\n",
              "        [[0.20069408, 0.33487856, 0.62968874],\n",
              "         [0.7243844 , 0.02776694, 0.6430297 ],\n",
              "         [0.4177872 , 0.767388  , 0.9742384 ],\n",
              "         ...,\n",
              "         [0.89009154, 0.28498816, 0.8889711 ],\n",
              "         [0.44769108, 0.5009948 , 0.64838624],\n",
              "         [0.6188768 , 0.22173572, 0.4088068 ]],\n",
              "\n",
              "        [[0.625263  , 0.3922354 , 0.77421474],\n",
              "         [0.18371725, 0.0048238 , 0.88630307],\n",
              "         [0.8326453 , 0.4011637 , 0.13287258],\n",
              "         ...,\n",
              "         [0.46831334, 0.10611725, 0.9006021 ],\n",
              "         [0.5448638 , 0.24364841, 0.84401906],\n",
              "         [0.7551447 , 0.5203743 , 0.8260535 ]]]], dtype=float32)>"
            ]
          },
          "metadata": {},
          "execution_count": 82
        }
      ]
    },
    {
      "cell_type": "code",
      "source": [
        "tensor_4dim.shape"
      ],
      "metadata": {
        "id": "aD8mBAjguuZs",
        "outputId": "2298aa38-2448-40f1-c3f3-cfd5178636d9",
        "colab": {
          "base_uri": "https://localhost:8080/"
        }
      },
      "execution_count": 83,
      "outputs": [
        {
          "output_type": "execute_result",
          "data": {
            "text/plain": [
              "TensorShape([1, 224, 224, 3])"
            ]
          },
          "metadata": {},
          "execution_count": 83
        }
      ]
    },
    {
      "cell_type": "code",
      "source": [
        "tensor_3dim = tf.squeeze(tensor_4dim)\n",
        "tensor_3dim"
      ],
      "metadata": {
        "id": "dPFw1AVL67yX",
        "outputId": "c7dfb81e-22a4-42b0-dd3d-ce9a20b39fe1",
        "colab": {
          "base_uri": "https://localhost:8080/"
        }
      },
      "execution_count": 107,
      "outputs": [
        {
          "output_type": "execute_result",
          "data": {
            "text/plain": [
              "<tf.Tensor: shape=(224, 224, 3), dtype=float32, numpy=\n",
              "array([[[0.4826082 , 0.54192233, 0.39170742],\n",
              "        [0.33821893, 0.714162  , 0.83715117],\n",
              "        [0.8897449 , 0.13590908, 0.77442884],\n",
              "        ...,\n",
              "        [0.8028666 , 0.11988878, 0.7182691 ],\n",
              "        [0.17086196, 0.77955055, 0.08576965],\n",
              "        [0.69420266, 0.9713012 , 0.79078734]],\n",
              "\n",
              "       [[0.52770424, 0.3794968 , 0.0352788 ],\n",
              "        [0.08516574, 0.8415406 , 0.7275226 ],\n",
              "        [0.450431  , 0.18005037, 0.6199248 ],\n",
              "        ...,\n",
              "        [0.7624786 , 0.9219421 , 0.5734676 ],\n",
              "        [0.3122009 , 0.13971686, 0.5631106 ],\n",
              "        [0.939088  , 0.3883965 , 0.8236563 ]],\n",
              "\n",
              "       [[0.13820124, 0.71945024, 0.11655128],\n",
              "        [0.5656539 , 0.70356476, 0.16767216],\n",
              "        [0.40628827, 0.2653438 , 0.6300045 ],\n",
              "        ...,\n",
              "        [0.6881591 , 0.23695815, 0.86257386],\n",
              "        [0.404261  , 0.48247254, 0.32898796],\n",
              "        [0.7227098 , 0.490569  , 0.19999075]],\n",
              "\n",
              "       ...,\n",
              "\n",
              "       [[0.87089014, 0.36357915, 0.98845875],\n",
              "        [0.74174035, 0.27098417, 0.42059922],\n",
              "        [0.17003691, 0.659868  , 0.5252334 ],\n",
              "        ...,\n",
              "        [0.16692841, 0.42788553, 0.759532  ],\n",
              "        [0.7252579 , 0.1453954 , 0.98740447],\n",
              "        [0.65368295, 0.5749196 , 0.9016998 ]],\n",
              "\n",
              "       [[0.20069408, 0.33487856, 0.62968874],\n",
              "        [0.7243844 , 0.02776694, 0.6430297 ],\n",
              "        [0.4177872 , 0.767388  , 0.9742384 ],\n",
              "        ...,\n",
              "        [0.89009154, 0.28498816, 0.8889711 ],\n",
              "        [0.44769108, 0.5009948 , 0.64838624],\n",
              "        [0.6188768 , 0.22173572, 0.4088068 ]],\n",
              "\n",
              "       [[0.625263  , 0.3922354 , 0.77421474],\n",
              "        [0.18371725, 0.0048238 , 0.88630307],\n",
              "        [0.8326453 , 0.4011637 , 0.13287258],\n",
              "        ...,\n",
              "        [0.46831334, 0.10611725, 0.9006021 ],\n",
              "        [0.5448638 , 0.24364841, 0.84401906],\n",
              "        [0.7551447 , 0.5203743 , 0.8260535 ]]], dtype=float32)>"
            ]
          },
          "metadata": {},
          "execution_count": 107
        }
      ]
    },
    {
      "cell_type": "code",
      "source": [
        "tensor_3dim = tf.reshape(tensor_4dim,shape=(224,224,3))\n",
        "tensor_3dim"
      ],
      "metadata": {
        "id": "hGoDPZc1uyFq",
        "outputId": "74a1e84e-4b1b-4ec6-e2e3-d47b3660f0a9",
        "colab": {
          "base_uri": "https://localhost:8080/"
        }
      },
      "execution_count": 86,
      "outputs": [
        {
          "output_type": "execute_result",
          "data": {
            "text/plain": [
              "<tf.Tensor: shape=(224, 224, 3), dtype=float32, numpy=\n",
              "array([[[0.4826082 , 0.54192233, 0.39170742],\n",
              "        [0.33821893, 0.714162  , 0.83715117],\n",
              "        [0.8897449 , 0.13590908, 0.77442884],\n",
              "        ...,\n",
              "        [0.8028666 , 0.11988878, 0.7182691 ],\n",
              "        [0.17086196, 0.77955055, 0.08576965],\n",
              "        [0.69420266, 0.9713012 , 0.79078734]],\n",
              "\n",
              "       [[0.52770424, 0.3794968 , 0.0352788 ],\n",
              "        [0.08516574, 0.8415406 , 0.7275226 ],\n",
              "        [0.450431  , 0.18005037, 0.6199248 ],\n",
              "        ...,\n",
              "        [0.7624786 , 0.9219421 , 0.5734676 ],\n",
              "        [0.3122009 , 0.13971686, 0.5631106 ],\n",
              "        [0.939088  , 0.3883965 , 0.8236563 ]],\n",
              "\n",
              "       [[0.13820124, 0.71945024, 0.11655128],\n",
              "        [0.5656539 , 0.70356476, 0.16767216],\n",
              "        [0.40628827, 0.2653438 , 0.6300045 ],\n",
              "        ...,\n",
              "        [0.6881591 , 0.23695815, 0.86257386],\n",
              "        [0.404261  , 0.48247254, 0.32898796],\n",
              "        [0.7227098 , 0.490569  , 0.19999075]],\n",
              "\n",
              "       ...,\n",
              "\n",
              "       [[0.87089014, 0.36357915, 0.98845875],\n",
              "        [0.74174035, 0.27098417, 0.42059922],\n",
              "        [0.17003691, 0.659868  , 0.5252334 ],\n",
              "        ...,\n",
              "        [0.16692841, 0.42788553, 0.759532  ],\n",
              "        [0.7252579 , 0.1453954 , 0.98740447],\n",
              "        [0.65368295, 0.5749196 , 0.9016998 ]],\n",
              "\n",
              "       [[0.20069408, 0.33487856, 0.62968874],\n",
              "        [0.7243844 , 0.02776694, 0.6430297 ],\n",
              "        [0.4177872 , 0.767388  , 0.9742384 ],\n",
              "        ...,\n",
              "        [0.89009154, 0.28498816, 0.8889711 ],\n",
              "        [0.44769108, 0.5009948 , 0.64838624],\n",
              "        [0.6188768 , 0.22173572, 0.4088068 ]],\n",
              "\n",
              "       [[0.625263  , 0.3922354 , 0.77421474],\n",
              "        [0.18371725, 0.0048238 , 0.88630307],\n",
              "        [0.8326453 , 0.4011637 , 0.13287258],\n",
              "        ...,\n",
              "        [0.46831334, 0.10611725, 0.9006021 ],\n",
              "        [0.5448638 , 0.24364841, 0.84401906],\n",
              "        [0.7551447 , 0.5203743 , 0.8260535 ]]], dtype=float32)>"
            ]
          },
          "metadata": {},
          "execution_count": 86
        }
      ]
    },
    {
      "cell_type": "code",
      "source": [
        "tensor_10 = tf.constant([10,11,12,13,44,5,6,7,8,9])\n",
        "tensor_10"
      ],
      "metadata": {
        "id": "SrxnSA6cvR-B",
        "outputId": "f974bc87-946c-439b-a439-24408988925b",
        "colab": {
          "base_uri": "https://localhost:8080/"
        }
      },
      "execution_count": 91,
      "outputs": [
        {
          "output_type": "execute_result",
          "data": {
            "text/plain": [
              "<tf.Tensor: shape=(10,), dtype=int32, numpy=array([10, 11, 12, 13, 44,  5,  6,  7,  8,  9], dtype=int32)>"
            ]
          },
          "metadata": {},
          "execution_count": 91
        }
      ]
    },
    {
      "cell_type": "code",
      "source": [
        "tf.reduce_max(tensor_10)"
      ],
      "metadata": {
        "id": "PyC-8Rc7vaeP",
        "outputId": "55fb0a59-60ac-46ee-9389-3c4772509a63",
        "colab": {
          "base_uri": "https://localhost:8080/"
        }
      },
      "execution_count": 92,
      "outputs": [
        {
          "output_type": "execute_result",
          "data": {
            "text/plain": [
              "<tf.Tensor: shape=(), dtype=int32, numpy=44>"
            ]
          },
          "metadata": {},
          "execution_count": 92
        }
      ]
    },
    {
      "cell_type": "code",
      "source": [
        "max_index = tf.argmax(tensor_10)"
      ],
      "metadata": {
        "id": "dhHzkX0qvrIO",
        "outputId": "57a13200-8924-4d94-f5ef-507f6b8b5295",
        "colab": {
          "base_uri": "https://localhost:8080/"
        }
      },
      "execution_count": 93,
      "outputs": [
        {
          "output_type": "execute_result",
          "data": {
            "text/plain": [
              "<tf.Tensor: shape=(), dtype=int64, numpy=4>"
            ]
          },
          "metadata": {},
          "execution_count": 93
        }
      ]
    },
    {
      "cell_type": "code",
      "source": [
        "tf.one_hot(tensor_10,depth=10)"
      ],
      "metadata": {
        "id": "l1mmZSwhwU-1",
        "outputId": "dabb1964-f1f7-4731-b533-a9c72db7f386",
        "colab": {
          "base_uri": "https://localhost:8080/"
        }
      },
      "execution_count": 98,
      "outputs": [
        {
          "output_type": "execute_result",
          "data": {
            "text/plain": [
              "<tf.Tensor: shape=(10, 10), dtype=float32, numpy=\n",
              "array([[0., 0., 0., 0., 0., 0., 0., 0., 0., 0.],\n",
              "       [0., 0., 0., 0., 0., 0., 0., 0., 0., 0.],\n",
              "       [0., 0., 0., 0., 0., 0., 0., 0., 0., 0.],\n",
              "       [0., 0., 0., 0., 0., 0., 0., 0., 0., 0.],\n",
              "       [0., 0., 0., 0., 0., 0., 0., 0., 0., 0.],\n",
              "       [0., 0., 0., 0., 0., 1., 0., 0., 0., 0.],\n",
              "       [0., 0., 0., 0., 0., 0., 1., 0., 0., 0.],\n",
              "       [0., 0., 0., 0., 0., 0., 0., 1., 0., 0.],\n",
              "       [0., 0., 0., 0., 0., 0., 0., 0., 1., 0.],\n",
              "       [0., 0., 0., 0., 0., 0., 0., 0., 0., 1.]], dtype=float32)>"
            ]
          },
          "metadata": {},
          "execution_count": 98
        }
      ]
    },
    {
      "cell_type": "code",
      "source": [
        "tensor1 = tf.constant([[10,7],[3,4]])\n",
        "tensor1"
      ],
      "metadata": {
        "id": "glTd-Er343Xb",
        "outputId": "dc5a8f1a-2c2f-44f0-efe1-888b37c1bd1a",
        "colab": {
          "base_uri": "https://localhost:8080/"
        }
      },
      "execution_count": 100,
      "outputs": [
        {
          "output_type": "execute_result",
          "data": {
            "text/plain": [
              "<tf.Tensor: shape=(2, 2), dtype=int32, numpy=\n",
              "array([[10,  7],\n",
              "       [ 3,  4]], dtype=int32)>"
            ]
          },
          "metadata": {},
          "execution_count": 100
        }
      ]
    },
    {
      "cell_type": "code",
      "source": [
        "tensor1 = tf.constant([[10,7],[3,4]],dtype='int16')\n",
        "tensor1"
      ],
      "metadata": {
        "id": "8vz0cUM74_IT",
        "outputId": "fde48cab-e8c5-4579-b508-efd03b496880",
        "colab": {
          "base_uri": "https://localhost:8080/"
        }
      },
      "execution_count": 101,
      "outputs": [
        {
          "output_type": "execute_result",
          "data": {
            "text/plain": [
              "<tf.Tensor: shape=(2, 2), dtype=int16, numpy=\n",
              "array([[10,  7],\n",
              "       [ 3,  4]], dtype=int16)>"
            ]
          },
          "metadata": {},
          "execution_count": 101
        }
      ]
    },
    {
      "cell_type": "code",
      "source": [
        "tensor1 = tf.constant([[10,7],[3,4]],dtype='float16')\n",
        "tensor1"
      ],
      "metadata": {
        "id": "gQ0RB-AJ5Cnk",
        "outputId": "39523916-b24f-44c2-ce89-8fa7ea773643",
        "colab": {
          "base_uri": "https://localhost:8080/"
        }
      },
      "execution_count": 102,
      "outputs": [
        {
          "output_type": "execute_result",
          "data": {
            "text/plain": [
              "<tf.Tensor: shape=(2, 2), dtype=float16, numpy=\n",
              "array([[10.,  7.],\n",
              "       [ 3.,  4.]], dtype=float16)>"
            ]
          },
          "metadata": {},
          "execution_count": 102
        }
      ]
    },
    {
      "cell_type": "code",
      "source": [
        "tensor1 = tf.constant([[10,7],[3,4]])\n",
        "tensor1"
      ],
      "metadata": {
        "id": "nlDDH0yw5abF",
        "outputId": "d8ce062f-bd91-439b-8891-943559ad8d7e",
        "colab": {
          "base_uri": "https://localhost:8080/"
        }
      },
      "execution_count": 103,
      "outputs": [
        {
          "output_type": "execute_result",
          "data": {
            "text/plain": [
              "<tf.Tensor: shape=(2, 2), dtype=int32, numpy=\n",
              "array([[10,  7],\n",
              "       [ 3,  4]], dtype=int32)>"
            ]
          },
          "metadata": {},
          "execution_count": 103
        }
      ]
    },
    {
      "cell_type": "code",
      "source": [
        "tensor1 = tf.cast(tensor1,dtype='float16')\n",
        "tensor1"
      ],
      "metadata": {
        "id": "j3BPM0IA5bq3",
        "outputId": "8c597023-3e94-4a7d-fed5-6308e4b10614",
        "colab": {
          "base_uri": "https://localhost:8080/"
        }
      },
      "execution_count": 104,
      "outputs": [
        {
          "output_type": "execute_result",
          "data": {
            "text/plain": [
              "<tf.Tensor: shape=(2, 2), dtype=float16, numpy=\n",
              "array([[10.,  7.],\n",
              "       [ 3.,  4.]], dtype=float16)>"
            ]
          },
          "metadata": {},
          "execution_count": 104
        }
      ]
    },
    {
      "cell_type": "code",
      "source": [
        "tensor1 = tf.constant([[10,7],[3,4]])\n",
        "tensor1"
      ],
      "metadata": {
        "id": "sQE_tiLO5vtI",
        "outputId": "65aeb2f4-4d71-4fee-ce23-578db0f50191",
        "colab": {
          "base_uri": "https://localhost:8080/"
        }
      },
      "execution_count": 105,
      "outputs": [
        {
          "output_type": "execute_result",
          "data": {
            "text/plain": [
              "<tf.Tensor: shape=(2, 2), dtype=int32, numpy=\n",
              "array([[10,  7],\n",
              "       [ 3,  4]], dtype=int32)>"
            ]
          },
          "metadata": {},
          "execution_count": 105
        }
      ]
    },
    {
      "cell_type": "code",
      "source": [
        "tensor1 = tf.cast(tensor1,dtype=tf.float32)\n",
        "tensor1"
      ],
      "metadata": {
        "id": "84AyJ5Co5xDb",
        "outputId": "f4fa2e95-4430-4aea-b6d6-2de54a7c8b6a",
        "colab": {
          "base_uri": "https://localhost:8080/"
        }
      },
      "execution_count": 106,
      "outputs": [
        {
          "output_type": "execute_result",
          "data": {
            "text/plain": [
              "<tf.Tensor: shape=(2, 2), dtype=float32, numpy=\n",
              "array([[10.,  7.],\n",
              "       [ 3.,  4.]], dtype=float32)>"
            ]
          },
          "metadata": {},
          "execution_count": 106
        }
      ]
    },
    {
      "cell_type": "code",
      "source": [
        "some_list = [0,1,2,3]\n",
        "\n",
        "# one hot encode our list of indices\n",
        "tf.one_hot(some_list,depth=4)"
      ],
      "metadata": {
        "id": "bkBVr58c7Psu",
        "outputId": "3b3261f6-4d4e-4edf-fd3f-c374a7609192",
        "colab": {
          "base_uri": "https://localhost:8080/"
        }
      },
      "execution_count": 110,
      "outputs": [
        {
          "output_type": "execute_result",
          "data": {
            "text/plain": [
              "<tf.Tensor: shape=(4, 4), dtype=float32, numpy=\n",
              "array([[1., 0., 0., 0.],\n",
              "       [0., 1., 0., 0.],\n",
              "       [0., 0., 1., 0.],\n",
              "       [0., 0., 0., 1.]], dtype=float32)>"
            ]
          },
          "metadata": {},
          "execution_count": 110
        }
      ]
    },
    {
      "cell_type": "code",
      "source": [
        "some_list = [0,1,2,3]\n",
        "\n",
        "# one hot encode our list of indices\n",
        "tf.one_hot(some_list,depth=4,on_value='Y',off_value='N')"
      ],
      "metadata": {
        "id": "1e3TxCtI7pro",
        "outputId": "99e0146a-7f26-4f94-d2ee-479dacc9e182",
        "colab": {
          "base_uri": "https://localhost:8080/"
        }
      },
      "execution_count": 111,
      "outputs": [
        {
          "output_type": "execute_result",
          "data": {
            "text/plain": [
              "<tf.Tensor: shape=(4, 4), dtype=string, numpy=\n",
              "array([[b'Y', b'N', b'N', b'N'],\n",
              "       [b'N', b'Y', b'N', b'N'],\n",
              "       [b'N', b'N', b'Y', b'N'],\n",
              "       [b'N', b'N', b'N', b'Y']], dtype=object)>"
            ]
          },
          "metadata": {},
          "execution_count": 111
        }
      ]
    },
    {
      "cell_type": "code",
      "source": [
        "some_list = [0,1,2,3]\n",
        "\n",
        "# one hot encode our list of indices\n",
        "tf.one_hot(some_list,depth=4,on_value='O',off_value='X')"
      ],
      "metadata": {
        "id": "ZT-XFFjg7t96",
        "outputId": "fcfdbd37-cb91-4d97-9fc9-3a81fa4c7ae4",
        "colab": {
          "base_uri": "https://localhost:8080/"
        }
      },
      "execution_count": 113,
      "outputs": [
        {
          "output_type": "execute_result",
          "data": {
            "text/plain": [
              "<tf.Tensor: shape=(4, 4), dtype=string, numpy=\n",
              "array([[b'O', b'X', b'X', b'X'],\n",
              "       [b'X', b'O', b'X', b'X'],\n",
              "       [b'X', b'X', b'O', b'X'],\n",
              "       [b'X', b'X', b'X', b'O']], dtype=object)>"
            ]
          },
          "metadata": {},
          "execution_count": 113
        }
      ]
    },
    {
      "cell_type": "code",
      "source": [
        "H = tf.range(1,10)\n",
        "H"
      ],
      "metadata": {
        "id": "ctzQ0A3C8JZh",
        "outputId": "f82a3636-301a-440e-ff5b-17279ef8c7b6",
        "colab": {
          "base_uri": "https://localhost:8080/"
        }
      },
      "execution_count": 114,
      "outputs": [
        {
          "output_type": "execute_result",
          "data": {
            "text/plain": [
              "<tf.Tensor: shape=(9,), dtype=int32, numpy=array([1, 2, 3, 4, 5, 6, 7, 8, 9], dtype=int32)>"
            ]
          },
          "metadata": {},
          "execution_count": 114
        }
      ]
    },
    {
      "cell_type": "code",
      "source": [
        "tf.square(H)"
      ],
      "metadata": {
        "id": "aeenDYTt8Mb2",
        "outputId": "c63ad058-1c4c-4f55-a26f-52afee25500a",
        "colab": {
          "base_uri": "https://localhost:8080/"
        }
      },
      "execution_count": 116,
      "outputs": [
        {
          "output_type": "execute_result",
          "data": {
            "text/plain": [
              "<tf.Tensor: shape=(9,), dtype=int32, numpy=array([ 1,  4,  9, 16, 25, 36, 49, 64, 81], dtype=int32)>"
            ]
          },
          "metadata": {},
          "execution_count": 116
        }
      ]
    },
    {
      "cell_type": "code",
      "source": [
        "tf.math.sqrt(tf.cast(H,dtype=tf.float32))"
      ],
      "metadata": {
        "id": "RzHBJF7y8Pj7",
        "outputId": "dcb0cb48-236d-4790-bfb4-159673b2dfe7",
        "colab": {
          "base_uri": "https://localhost:8080/"
        }
      },
      "execution_count": 117,
      "outputs": [
        {
          "output_type": "execute_result",
          "data": {
            "text/plain": [
              "<tf.Tensor: shape=(9,), dtype=float32, numpy=\n",
              "array([1.       , 1.4142135, 1.7320508, 2.       , 2.236068 , 2.4494898,\n",
              "       2.6457512, 2.828427 , 3.       ], dtype=float32)>"
            ]
          },
          "metadata": {},
          "execution_count": 117
        }
      ]
    },
    {
      "cell_type": "code",
      "source": [
        "tf.math.log(tf.cast(H,dtype=tf.float32))"
      ],
      "metadata": {
        "id": "58QZ7SAL8axX",
        "outputId": "867925c9-2623-44ba-d4ed-8c9151e34b7a",
        "colab": {
          "base_uri": "https://localhost:8080/"
        }
      },
      "execution_count": 118,
      "outputs": [
        {
          "output_type": "execute_result",
          "data": {
            "text/plain": [
              "<tf.Tensor: shape=(9,), dtype=float32, numpy=\n",
              "array([0.       , 0.6931472, 1.0986123, 1.3862944, 1.609438 , 1.7917595,\n",
              "       1.9459102, 2.0794415, 2.1972246], dtype=float32)>"
            ]
          },
          "metadata": {},
          "execution_count": 118
        }
      ]
    }
  ]
}